{
 "cells": [
  {
   "cell_type": "markdown",
   "metadata": {},
   "source": [
    "### 1. IMPORTS AND LIBRARIES"
   ]
  },
  {
   "cell_type": "code",
   "execution_count": 1,
   "metadata": {},
   "outputs": [
    {
     "name": "stderr",
     "output_type": "stream",
     "text": [
      "Using TensorFlow backend.\n"
     ]
    },
    {
     "name": "stdout",
     "output_type": "stream",
     "text": [
      "None\n",
      "None\n",
      "None\n"
     ]
    }
   ],
   "source": [
    "from keras.applications import VGG16\n",
    "from keras.applications import ResNet50\n",
    "from keras.applications import VGG19\n",
    "from keras_applications.inception_resnet_v2 import InceptionResNetV2\n",
    "import pandas as pd\n",
    "import numpy as np\n",
    "import tables\n",
    "\n",
    "# Libraries for displying the data. \n",
    "from IPython.core.display import HTML \n",
    "from ipywidgets import interact\n",
    "from IPython.display import display\n",
    "from IPython.display import Image\n",
    "\n",
    "print(VGG16.__doc__)\n",
    "print(ResNet50.__doc__)\n",
    "print(VGG19.__doc__)"
   ]
  },
  {
   "cell_type": "code",
   "execution_count": 2,
   "metadata": {},
   "outputs": [
    {
     "name": "stdout",
     "output_type": "stream",
     "text": [
      "<tensorflow.python.client.session.Session object at 0x7f8500496518>\n"
     ]
    }
   ],
   "source": [
    "# i am trying to use tensor-gpu just to check if things are fine\n",
    "import tensorflow as tf\n",
    "sess = tf.Session(config=tf.ConfigProto(log_device_placement=True))\n",
    "print(sess)"
   ]
  },
  {
   "cell_type": "code",
   "execution_count": 3,
   "metadata": {},
   "outputs": [],
   "source": [
    "from skimage.io import imread\n",
    "from skimage.transform import resize\n",
    "from keras.applications.imagenet_utils import preprocess_input, decode_predictions"
   ]
  },
  {
   "cell_type": "markdown",
   "metadata": {},
   "source": [
    "### 2. HELPER FUNCTIONS"
   ]
  },
  {
   "cell_type": "code",
   "execution_count": 4,
   "metadata": {},
   "outputs": [],
   "source": [
    "size = 224\n",
    "def get_input(img_path):\n",
    "    img = imread(img_path)\n",
    "    img = resize(img, (size, size,3), preserve_range=True).astype(np.float32)\n",
    "    #img = np.expand_dims(img, axis=0)\n",
    "    img = preprocess_input(img)\n",
    "    return img"
   ]
  },
  {
   "cell_type": "code",
   "execution_count": 5,
   "metadata": {},
   "outputs": [],
   "source": [
    "def get_predictions(img_path, model,decode=True):\n",
    "    input_ = get_input(img_path)\n",
    "    out = model.predict(input_)\n",
    "    if decode:\n",
    "        return decode_predictions(out)\n",
    "    else:\n",
    "        return out"
   ]
  },
  {
   "cell_type": "markdown",
   "metadata": {},
   "source": [
    "### 3. LOAD COMPLETE DATA "
   ]
  },
  {
   "cell_type": "code",
   "execution_count": 6,
   "metadata": {},
   "outputs": [
    {
     "name": "stdout",
     "output_type": "stream",
     "text": [
      "(35965, 13)\n"
     ]
    },
    {
     "data": {
      "text/html": [
       "<div>\n",
       "<style scoped>\n",
       "    .dataframe tbody tr th:only-of-type {\n",
       "        vertical-align: middle;\n",
       "    }\n",
       "\n",
       "    .dataframe tbody tr th {\n",
       "        vertical-align: top;\n",
       "    }\n",
       "\n",
       "    .dataframe thead th {\n",
       "        text-align: right;\n",
       "    }\n",
       "</style>\n",
       "<table border=\"1\" class=\"dataframe\">\n",
       "  <thead>\n",
       "    <tr style=\"text-align: right;\">\n",
       "      <th></th>\n",
       "      <th>image_link</th>\n",
       "      <th>product_name</th>\n",
       "      <th>page_link</th>\n",
       "      <th>label</th>\n",
       "      <th>background</th>\n",
       "      <th>delete</th>\n",
       "      <th>item_no</th>\n",
       "      <th>description</th>\n",
       "      <th>style</th>\n",
       "      <th>material</th>\n",
       "      <th>type_class</th>\n",
       "      <th>color</th>\n",
       "      <th>rating</th>\n",
       "    </tr>\n",
       "  </thead>\n",
       "  <tbody>\n",
       "    <tr>\n",
       "      <th>0</th>\n",
       "      <td>https://ak1.ostkcdn.com/images/products/139907...</td>\n",
       "      <td>Carson Carrington Brandbu Mid-century Fold Dow...</td>\n",
       "      <td>https://www.overstock.com/Home-Garden/Carson-C...</td>\n",
       "      <td>sofa</td>\n",
       "      <td>0</td>\n",
       "      <td>0.0</td>\n",
       "      <td>20370480</td>\n",
       "      <td>Inspired by 1950's decor, the Brandbu futon is...</td>\n",
       "      <td>Mid-Century Modern, Scandinavian</td>\n",
       "      <td>Foam, Linen, Wood</td>\n",
       "      <td>Futon Set, Sofa</td>\n",
       "      <td>Blue, Green, Grey, Pink, Yellow</td>\n",
       "      <td>4.1</td>\n",
       "    </tr>\n",
       "    <tr>\n",
       "      <th>1</th>\n",
       "      <td>https://ak1.ostkcdn.com/images/products/139907...</td>\n",
       "      <td>Carson Carrington Brandbu Mid-century Fold Dow...</td>\n",
       "      <td>https://www.overstock.com/Home-Garden/Carson-C...</td>\n",
       "      <td>sofa</td>\n",
       "      <td>0</td>\n",
       "      <td>0.0</td>\n",
       "      <td>20370480</td>\n",
       "      <td>Inspired by 1950's decor, the Brandbu futon is...</td>\n",
       "      <td>Mid-Century Modern, Scandinavian</td>\n",
       "      <td>Foam, Linen, Wood</td>\n",
       "      <td>Futon Set, Sofa</td>\n",
       "      <td>Blue, Green, Grey, Pink, Yellow</td>\n",
       "      <td>4.1</td>\n",
       "    </tr>\n",
       "  </tbody>\n",
       "</table>\n",
       "</div>"
      ],
      "text/plain": [
       "                                          image_link  \\\n",
       "0  https://ak1.ostkcdn.com/images/products/139907...   \n",
       "1  https://ak1.ostkcdn.com/images/products/139907...   \n",
       "\n",
       "                                        product_name  \\\n",
       "0  Carson Carrington Brandbu Mid-century Fold Dow...   \n",
       "1  Carson Carrington Brandbu Mid-century Fold Dow...   \n",
       "\n",
       "                                           page_link label  background  \\\n",
       "0  https://www.overstock.com/Home-Garden/Carson-C...  sofa           0   \n",
       "1  https://www.overstock.com/Home-Garden/Carson-C...  sofa           0   \n",
       "\n",
       "   delete   item_no                                        description  \\\n",
       "0     0.0  20370480  Inspired by 1950's decor, the Brandbu futon is...   \n",
       "1     0.0  20370480  Inspired by 1950's decor, the Brandbu futon is...   \n",
       "\n",
       "                              style           material       type_class  \\\n",
       "0  Mid-Century Modern, Scandinavian  Foam, Linen, Wood  Futon Set, Sofa   \n",
       "1  Mid-Century Modern, Scandinavian  Foam, Linen, Wood  Futon Set, Sofa   \n",
       "\n",
       "                             color  rating  \n",
       "0  Blue, Green, Grey, Pink, Yellow     4.1  \n",
       "1  Blue, Green, Grey, Pink, Yellow     4.1  "
      ]
     },
     "execution_count": 6,
     "metadata": {},
     "output_type": "execute_result"
    }
   ],
   "source": [
    "df = pd.read_csv('../data/model/recommender_data.csv') \n",
    "df = df.drop(columns = 'Unnamed: 0')\n",
    "print(df.shape)\n",
    "df.head(2)"
   ]
  },
  {
   "cell_type": "code",
   "execution_count": 7,
   "metadata": {},
   "outputs": [
    {
     "data": {
      "text/plain": [
       "coffee table    12543\n",
       "sofa             9680\n",
       "tv stand         7033\n",
       "pouf             3402\n",
       "armchair         3307\n",
       "Name: label, dtype: int64"
      ]
     },
     "execution_count": 7,
     "metadata": {},
     "output_type": "execute_result"
    }
   ],
   "source": [
    "df['label'].value_counts()"
   ]
  },
  {
   "cell_type": "markdown",
   "metadata": {},
   "source": [
    "### 5. LOAD MY MODEL AND GET EXTRACTABLE LAYER"
   ]
  },
  {
   "cell_type": "code",
   "execution_count": 8,
   "metadata": {},
   "outputs": [],
   "source": [
    "from keras import models, layers, optimizers\n",
    "from keras.models import Model\n",
    "import matplotlib.pyplot as plt\n",
    "from sklearn.metrics import confusion_matrix\n",
    "import itertools\n",
    "import keras\n",
    "from keras import models, layers, optimizers\n",
    "from keras.layers import Dense, Dropout, Activation, Flatten, Conv2D, MaxPooling2D, Lambda, MaxPool2D, BatchNormalization\n",
    "from keras.models import Model\n",
    "from keras.callbacks import Callback, EarlyStopping, ReduceLROnPlateau, ModelCheckpoint"
   ]
  },
  {
   "cell_type": "code",
   "execution_count": 9,
   "metadata": {},
   "outputs": [],
   "source": [
    "# load best model\n",
    "my_model=models.load_model('weights.15-1.41.hdf5')"
   ]
  },
  {
   "cell_type": "code",
   "execution_count": 10,
   "metadata": {},
   "outputs": [
    {
     "name": "stdout",
     "output_type": "stream",
     "text": [
      "_________________________________________________________________\n",
      "Layer (type)                 Output Shape              Param #   \n",
      "=================================================================\n",
      "input_4 (InputLayer)         (None, 224, 224, 3)       0         \n",
      "_________________________________________________________________\n",
      "block1_conv1 (Conv2D)        (None, 224, 224, 64)      1792      \n",
      "_________________________________________________________________\n",
      "block1_conv2 (Conv2D)        (None, 224, 224, 64)      36928     \n",
      "_________________________________________________________________\n",
      "block1_pool (MaxPooling2D)   (None, 112, 112, 64)      0         \n",
      "_________________________________________________________________\n",
      "block2_conv1 (Conv2D)        (None, 112, 112, 128)     73856     \n",
      "_________________________________________________________________\n",
      "block2_conv2 (Conv2D)        (None, 112, 112, 128)     147584    \n",
      "_________________________________________________________________\n",
      "block2_pool (MaxPooling2D)   (None, 56, 56, 128)       0         \n",
      "_________________________________________________________________\n",
      "block3_conv1 (Conv2D)        (None, 56, 56, 256)       295168    \n",
      "_________________________________________________________________\n",
      "block3_conv2 (Conv2D)        (None, 56, 56, 256)       590080    \n",
      "_________________________________________________________________\n",
      "block3_conv3 (Conv2D)        (None, 56, 56, 256)       590080    \n",
      "_________________________________________________________________\n",
      "block3_pool (MaxPooling2D)   (None, 28, 28, 256)       0         \n",
      "_________________________________________________________________\n",
      "block4_conv1 (Conv2D)        (None, 28, 28, 512)       1180160   \n",
      "_________________________________________________________________\n",
      "block4_conv2 (Conv2D)        (None, 28, 28, 512)       2359808   \n",
      "_________________________________________________________________\n",
      "block4_conv3 (Conv2D)        (None, 28, 28, 512)       2359808   \n",
      "_________________________________________________________________\n",
      "block4_pool (MaxPooling2D)   (None, 14, 14, 512)       0         \n",
      "_________________________________________________________________\n",
      "block5_conv1 (Conv2D)        (None, 14, 14, 512)       2359808   \n",
      "_________________________________________________________________\n",
      "block5_conv2 (Conv2D)        (None, 14, 14, 512)       2359808   \n",
      "_________________________________________________________________\n",
      "block5_conv3 (Conv2D)        (None, 14, 14, 512)       2359808   \n",
      "_________________________________________________________________\n",
      "block5_pool (MaxPooling2D)   (None, 7, 7, 512)         0         \n",
      "_________________________________________________________________\n",
      "flatten_4 (Flatten)          (None, 25088)             0         \n",
      "_________________________________________________________________\n",
      "fc1 (Dense)                  (None, 128)               3211392   \n",
      "_________________________________________________________________\n",
      "fc2 (Dense)                  (None, 64)                8256      \n",
      "_________________________________________________________________\n",
      "dropout_4 (Dropout)          (None, 64)                0         \n",
      "_________________________________________________________________\n",
      "dense_4 (Dense)              (None, 5)                 325       \n",
      "=================================================================\n",
      "Total params: 17,934,661\n",
      "Trainable params: 3,219,973\n",
      "Non-trainable params: 14,714,688\n",
      "_________________________________________________________________\n"
     ]
    }
   ],
   "source": [
    "my_model.summary()"
   ]
  },
  {
   "cell_type": "code",
   "execution_count": 11,
   "metadata": {},
   "outputs": [],
   "source": [
    "def make_preds(XR):\n",
    "    feature=my_model_extract.predict(XR)\n",
    "    df_output = pd.DataFrame(feature, columns = ['ifeature'+str(i) for i in range (1,neurons+1) ])\n",
    "    return df_output "
   ]
  },
  {
   "cell_type": "code",
   "execution_count": 12,
   "metadata": {},
   "outputs": [],
   "source": [
    "# set the following\n",
    "layer_to_extract = 'fc1'\n",
    "neurons = 128"
   ]
  },
  {
   "cell_type": "code",
   "execution_count": 13,
   "metadata": {},
   "outputs": [],
   "source": [
    "my_model_extract = Model(inputs=my_model.input, outputs=my_model.get_layer(layer_to_extract).output)"
   ]
  },
  {
   "cell_type": "markdown",
   "metadata": {},
   "source": [
    "### 5. LOAD IMAGE MATRICES IN PARTS AND PREDICT"
   ]
  },
  {
   "cell_type": "code",
   "execution_count": 14,
   "metadata": {},
   "outputs": [],
   "source": [
    "hdf5_file = tables.open_file('../data/reco_part1.h5', mode='r')\n",
    "XR1 = np.array(hdf5_file.root.X_reco_part1)\n",
    "hdf5_file.close()"
   ]
  },
  {
   "cell_type": "code",
   "execution_count": 15,
   "metadata": {},
   "outputs": [],
   "source": [
    "hdf5_file = tables.open_file('../data/reco_part2.h5', mode='r')\n",
    "XR2 = np.array(hdf5_file.root.X_reco_part2)\n",
    "hdf5_file.close()"
   ]
  },
  {
   "cell_type": "code",
   "execution_count": 16,
   "metadata": {},
   "outputs": [],
   "source": [
    "hdf5_file = tables.open_file('../data/reco_part3.h5', mode='r')\n",
    "XR3 = np.array(hdf5_file.root.X_reco_part3)\n",
    "hdf5_file.close()"
   ]
  },
  {
   "cell_type": "code",
   "execution_count": 17,
   "metadata": {},
   "outputs": [],
   "source": [
    "hdf5_file = tables.open_file('../data/reco_part4.h5', mode='r')\n",
    "XR4 = np.array(hdf5_file.root.X_reco_part4)\n",
    "hdf5_file.close()"
   ]
  },
  {
   "cell_type": "code",
   "execution_count": 19,
   "metadata": {},
   "outputs": [
    {
     "name": "stdout",
     "output_type": "stream",
     "text": [
      "(8001, 224, 224, 3)\n",
      "(9000, 224, 224, 3)\n",
      "(10000, 224, 224, 3)\n",
      "(8964, 224, 224, 3)\n"
     ]
    }
   ],
   "source": [
    "print(XR1.shape)\n",
    "print(XR2.shape)\n",
    "print(XR3.shape)\n",
    "print(XR4.shape)"
   ]
  },
  {
   "cell_type": "code",
   "execution_count": 20,
   "metadata": {},
   "outputs": [
    {
     "data": {
      "text/plain": [
       "(8001, 128)"
      ]
     },
     "execution_count": 20,
     "metadata": {},
     "output_type": "execute_result"
    }
   ],
   "source": [
    "df_reco1=make_preds(XR1)\n",
    "df_reco1.shape"
   ]
  },
  {
   "cell_type": "code",
   "execution_count": 21,
   "metadata": {},
   "outputs": [],
   "source": [
    "# df_reco1.to_csv('../data/temp_R1.csv')"
   ]
  },
  {
   "cell_type": "code",
   "execution_count": 22,
   "metadata": {},
   "outputs": [
    {
     "data": {
      "text/plain": [
       "(9000, 128)"
      ]
     },
     "execution_count": 22,
     "metadata": {},
     "output_type": "execute_result"
    }
   ],
   "source": [
    "df_reco2=make_preds(XR2)\n",
    "df_reco2.shape"
   ]
  },
  {
   "cell_type": "code",
   "execution_count": 23,
   "metadata": {},
   "outputs": [],
   "source": [
    "# df_reco2.to_csv('../data/temp_R2.csv')"
   ]
  },
  {
   "cell_type": "code",
   "execution_count": 24,
   "metadata": {},
   "outputs": [
    {
     "data": {
      "text/plain": [
       "(10000, 128)"
      ]
     },
     "execution_count": 24,
     "metadata": {},
     "output_type": "execute_result"
    }
   ],
   "source": [
    "df_reco3=make_preds(XR3)\n",
    "df_reco3.shape"
   ]
  },
  {
   "cell_type": "code",
   "execution_count": 25,
   "metadata": {},
   "outputs": [],
   "source": [
    "# df_reco3.to_csv('../data/temp_R3.csv')"
   ]
  },
  {
   "cell_type": "code",
   "execution_count": 26,
   "metadata": {},
   "outputs": [
    {
     "data": {
      "text/plain": [
       "(8964, 128)"
      ]
     },
     "execution_count": 26,
     "metadata": {},
     "output_type": "execute_result"
    }
   ],
   "source": [
    "df_reco4=make_preds(XR4)\n",
    "df_reco4.shape"
   ]
  },
  {
   "cell_type": "code",
   "execution_count": 27,
   "metadata": {},
   "outputs": [],
   "source": [
    "# df_reco4.to_csv('../data/temp_R4.csv')"
   ]
  },
  {
   "cell_type": "markdown",
   "metadata": {},
   "source": [
    "### 6. CONCAT AND MAKE FINAL RECOMMENDATION MATRIX"
   ]
  },
  {
   "cell_type": "code",
   "execution_count": 28,
   "metadata": {},
   "outputs": [
    {
     "data": {
      "text/plain": [
       "coffee table    12543\n",
       "sofa             9680\n",
       "tv stand         7033\n",
       "pouf             3402\n",
       "armchair         3307\n",
       "Name: label, dtype: int64"
      ]
     },
     "execution_count": 28,
     "metadata": {},
     "output_type": "execute_result"
    }
   ],
   "source": [
    "df['label'].value_counts()"
   ]
  },
  {
   "cell_type": "code",
   "execution_count": 30,
   "metadata": {},
   "outputs": [
    {
     "data": {
      "text/html": [
       "<div>\n",
       "<style scoped>\n",
       "    .dataframe tbody tr th:only-of-type {\n",
       "        vertical-align: middle;\n",
       "    }\n",
       "\n",
       "    .dataframe tbody tr th {\n",
       "        vertical-align: top;\n",
       "    }\n",
       "\n",
       "    .dataframe thead th {\n",
       "        text-align: right;\n",
       "    }\n",
       "</style>\n",
       "<table border=\"1\" class=\"dataframe\">\n",
       "  <thead>\n",
       "    <tr style=\"text-align: right;\">\n",
       "      <th></th>\n",
       "      <th>image_link</th>\n",
       "      <th>product_name</th>\n",
       "      <th>page_link</th>\n",
       "      <th>label</th>\n",
       "    </tr>\n",
       "  </thead>\n",
       "  <tbody>\n",
       "    <tr>\n",
       "      <th>0</th>\n",
       "      <td>https://ak1.ostkcdn.com/images/products/139907...</td>\n",
       "      <td>Carson Carrington Brandbu Mid-century Fold Dow...</td>\n",
       "      <td>https://www.overstock.com/Home-Garden/Carson-C...</td>\n",
       "      <td>sofa</td>\n",
       "    </tr>\n",
       "    <tr>\n",
       "      <th>1</th>\n",
       "      <td>https://ak1.ostkcdn.com/images/products/139907...</td>\n",
       "      <td>Carson Carrington Brandbu Mid-century Fold Dow...</td>\n",
       "      <td>https://www.overstock.com/Home-Garden/Carson-C...</td>\n",
       "      <td>sofa</td>\n",
       "    </tr>\n",
       "    <tr>\n",
       "      <th>2</th>\n",
       "      <td>https://ak1.ostkcdn.com/images/products/139907...</td>\n",
       "      <td>Carson Carrington Brandbu Mid-century Fold Dow...</td>\n",
       "      <td>https://www.overstock.com/Home-Garden/Carson-C...</td>\n",
       "      <td>sofa</td>\n",
       "    </tr>\n",
       "    <tr>\n",
       "      <th>3</th>\n",
       "      <td>https://ak1.ostkcdn.com/images/products/139907...</td>\n",
       "      <td>Carson Carrington Brandbu Mid-century Fold Dow...</td>\n",
       "      <td>https://www.overstock.com/Home-Garden/Carson-C...</td>\n",
       "      <td>sofa</td>\n",
       "    </tr>\n",
       "    <tr>\n",
       "      <th>4</th>\n",
       "      <td>https://ak1.ostkcdn.com/images/products/139907...</td>\n",
       "      <td>Carson Carrington Brandbu Mid-century Fold Dow...</td>\n",
       "      <td>https://www.overstock.com/Home-Garden/Carson-C...</td>\n",
       "      <td>sofa</td>\n",
       "    </tr>\n",
       "  </tbody>\n",
       "</table>\n",
       "</div>"
      ],
      "text/plain": [
       "                                          image_link  \\\n",
       "0  https://ak1.ostkcdn.com/images/products/139907...   \n",
       "1  https://ak1.ostkcdn.com/images/products/139907...   \n",
       "2  https://ak1.ostkcdn.com/images/products/139907...   \n",
       "3  https://ak1.ostkcdn.com/images/products/139907...   \n",
       "4  https://ak1.ostkcdn.com/images/products/139907...   \n",
       "\n",
       "                                        product_name  \\\n",
       "0  Carson Carrington Brandbu Mid-century Fold Dow...   \n",
       "1  Carson Carrington Brandbu Mid-century Fold Dow...   \n",
       "2  Carson Carrington Brandbu Mid-century Fold Dow...   \n",
       "3  Carson Carrington Brandbu Mid-century Fold Dow...   \n",
       "4  Carson Carrington Brandbu Mid-century Fold Dow...   \n",
       "\n",
       "                                           page_link label  \n",
       "0  https://www.overstock.com/Home-Garden/Carson-C...  sofa  \n",
       "1  https://www.overstock.com/Home-Garden/Carson-C...  sofa  \n",
       "2  https://www.overstock.com/Home-Garden/Carson-C...  sofa  \n",
       "3  https://www.overstock.com/Home-Garden/Carson-C...  sofa  \n",
       "4  https://www.overstock.com/Home-Garden/Carson-C...  sofa  "
      ]
     },
     "execution_count": 30,
     "metadata": {},
     "output_type": "execute_result"
    }
   ],
   "source": [
    "df.iloc[:,:4].head()"
   ]
  },
  {
   "cell_type": "code",
   "execution_count": 31,
   "metadata": {},
   "outputs": [],
   "source": [
    "df_reco_1 = pd.concat([df_reco1,df_reco2,df_reco3,df_reco4]).reset_index()"
   ]
  },
  {
   "cell_type": "code",
   "execution_count": 32,
   "metadata": {},
   "outputs": [
    {
     "data": {
      "text/plain": [
       "(35965, 129)"
      ]
     },
     "execution_count": 32,
     "metadata": {},
     "output_type": "execute_result"
    }
   ],
   "source": [
    "df_reco_1.shape"
   ]
  },
  {
   "cell_type": "code",
   "execution_count": 33,
   "metadata": {},
   "outputs": [],
   "source": [
    "df_reco_1.insert(loc=0, column='label', value=df['label'])\n",
    "df_reco_1.insert(loc=0, column='page_link', value=df['page_link'])\n",
    "df_reco_1.insert(loc=0, column='product_name', value=df['product_name'])\n",
    "df_reco_1.insert(loc=0, column='image_link', value=df['image_link'])"
   ]
  },
  {
   "cell_type": "code",
   "execution_count": 34,
   "metadata": {},
   "outputs": [
    {
     "data": {
      "text/html": [
       "<div>\n",
       "<style scoped>\n",
       "    .dataframe tbody tr th:only-of-type {\n",
       "        vertical-align: middle;\n",
       "    }\n",
       "\n",
       "    .dataframe tbody tr th {\n",
       "        vertical-align: top;\n",
       "    }\n",
       "\n",
       "    .dataframe thead th {\n",
       "        text-align: right;\n",
       "    }\n",
       "</style>\n",
       "<table border=\"1\" class=\"dataframe\">\n",
       "  <thead>\n",
       "    <tr style=\"text-align: right;\">\n",
       "      <th></th>\n",
       "      <th>ifeature1</th>\n",
       "      <th>ifeature2</th>\n",
       "      <th>ifeature3</th>\n",
       "      <th>ifeature4</th>\n",
       "      <th>ifeature5</th>\n",
       "      <th>ifeature6</th>\n",
       "      <th>ifeature7</th>\n",
       "      <th>ifeature8</th>\n",
       "      <th>ifeature9</th>\n",
       "      <th>ifeature10</th>\n",
       "      <th>...</th>\n",
       "      <th>ifeature119</th>\n",
       "      <th>ifeature120</th>\n",
       "      <th>ifeature121</th>\n",
       "      <th>ifeature122</th>\n",
       "      <th>ifeature123</th>\n",
       "      <th>ifeature124</th>\n",
       "      <th>ifeature125</th>\n",
       "      <th>ifeature126</th>\n",
       "      <th>ifeature127</th>\n",
       "      <th>ifeature128</th>\n",
       "    </tr>\n",
       "  </thead>\n",
       "  <tbody>\n",
       "    <tr>\n",
       "      <th>0</th>\n",
       "      <td>0.000000</td>\n",
       "      <td>0.0</td>\n",
       "      <td>0.0</td>\n",
       "      <td>0.0</td>\n",
       "      <td>809.768860</td>\n",
       "      <td>0.0</td>\n",
       "      <td>0.0</td>\n",
       "      <td>0.0</td>\n",
       "      <td>0.0</td>\n",
       "      <td>0.0</td>\n",
       "      <td>...</td>\n",
       "      <td>0.0</td>\n",
       "      <td>0.0</td>\n",
       "      <td>0.0</td>\n",
       "      <td>0.0</td>\n",
       "      <td>0.000000</td>\n",
       "      <td>0.0</td>\n",
       "      <td>0.0</td>\n",
       "      <td>0.0</td>\n",
       "      <td>0.0</td>\n",
       "      <td>645.975525</td>\n",
       "    </tr>\n",
       "    <tr>\n",
       "      <th>1</th>\n",
       "      <td>0.000000</td>\n",
       "      <td>0.0</td>\n",
       "      <td>0.0</td>\n",
       "      <td>0.0</td>\n",
       "      <td>606.452271</td>\n",
       "      <td>0.0</td>\n",
       "      <td>0.0</td>\n",
       "      <td>0.0</td>\n",
       "      <td>0.0</td>\n",
       "      <td>0.0</td>\n",
       "      <td>...</td>\n",
       "      <td>0.0</td>\n",
       "      <td>0.0</td>\n",
       "      <td>0.0</td>\n",
       "      <td>0.0</td>\n",
       "      <td>0.000000</td>\n",
       "      <td>0.0</td>\n",
       "      <td>0.0</td>\n",
       "      <td>0.0</td>\n",
       "      <td>0.0</td>\n",
       "      <td>513.054871</td>\n",
       "    </tr>\n",
       "    <tr>\n",
       "      <th>2</th>\n",
       "      <td>0.000000</td>\n",
       "      <td>0.0</td>\n",
       "      <td>0.0</td>\n",
       "      <td>0.0</td>\n",
       "      <td>632.849670</td>\n",
       "      <td>0.0</td>\n",
       "      <td>0.0</td>\n",
       "      <td>0.0</td>\n",
       "      <td>0.0</td>\n",
       "      <td>0.0</td>\n",
       "      <td>...</td>\n",
       "      <td>0.0</td>\n",
       "      <td>0.0</td>\n",
       "      <td>0.0</td>\n",
       "      <td>0.0</td>\n",
       "      <td>100.953590</td>\n",
       "      <td>0.0</td>\n",
       "      <td>0.0</td>\n",
       "      <td>0.0</td>\n",
       "      <td>0.0</td>\n",
       "      <td>436.987091</td>\n",
       "    </tr>\n",
       "    <tr>\n",
       "      <th>3</th>\n",
       "      <td>23.811977</td>\n",
       "      <td>0.0</td>\n",
       "      <td>0.0</td>\n",
       "      <td>0.0</td>\n",
       "      <td>528.771545</td>\n",
       "      <td>0.0</td>\n",
       "      <td>0.0</td>\n",
       "      <td>0.0</td>\n",
       "      <td>0.0</td>\n",
       "      <td>0.0</td>\n",
       "      <td>...</td>\n",
       "      <td>0.0</td>\n",
       "      <td>0.0</td>\n",
       "      <td>0.0</td>\n",
       "      <td>0.0</td>\n",
       "      <td>43.345352</td>\n",
       "      <td>0.0</td>\n",
       "      <td>0.0</td>\n",
       "      <td>0.0</td>\n",
       "      <td>0.0</td>\n",
       "      <td>389.577667</td>\n",
       "    </tr>\n",
       "    <tr>\n",
       "      <th>4</th>\n",
       "      <td>48.486305</td>\n",
       "      <td>0.0</td>\n",
       "      <td>0.0</td>\n",
       "      <td>0.0</td>\n",
       "      <td>531.305237</td>\n",
       "      <td>0.0</td>\n",
       "      <td>0.0</td>\n",
       "      <td>0.0</td>\n",
       "      <td>0.0</td>\n",
       "      <td>0.0</td>\n",
       "      <td>...</td>\n",
       "      <td>0.0</td>\n",
       "      <td>0.0</td>\n",
       "      <td>0.0</td>\n",
       "      <td>0.0</td>\n",
       "      <td>11.215407</td>\n",
       "      <td>0.0</td>\n",
       "      <td>0.0</td>\n",
       "      <td>0.0</td>\n",
       "      <td>0.0</td>\n",
       "      <td>353.925629</td>\n",
       "    </tr>\n",
       "  </tbody>\n",
       "</table>\n",
       "<p>5 rows × 128 columns</p>\n",
       "</div>"
      ],
      "text/plain": [
       "   ifeature1  ifeature2  ifeature3  ifeature4   ifeature5  ifeature6  \\\n",
       "0   0.000000        0.0        0.0        0.0  809.768860        0.0   \n",
       "1   0.000000        0.0        0.0        0.0  606.452271        0.0   \n",
       "2   0.000000        0.0        0.0        0.0  632.849670        0.0   \n",
       "3  23.811977        0.0        0.0        0.0  528.771545        0.0   \n",
       "4  48.486305        0.0        0.0        0.0  531.305237        0.0   \n",
       "\n",
       "   ifeature7  ifeature8  ifeature9  ifeature10     ...       ifeature119  \\\n",
       "0        0.0        0.0        0.0         0.0     ...               0.0   \n",
       "1        0.0        0.0        0.0         0.0     ...               0.0   \n",
       "2        0.0        0.0        0.0         0.0     ...               0.0   \n",
       "3        0.0        0.0        0.0         0.0     ...               0.0   \n",
       "4        0.0        0.0        0.0         0.0     ...               0.0   \n",
       "\n",
       "   ifeature120  ifeature121  ifeature122  ifeature123  ifeature124  \\\n",
       "0          0.0          0.0          0.0     0.000000          0.0   \n",
       "1          0.0          0.0          0.0     0.000000          0.0   \n",
       "2          0.0          0.0          0.0   100.953590          0.0   \n",
       "3          0.0          0.0          0.0    43.345352          0.0   \n",
       "4          0.0          0.0          0.0    11.215407          0.0   \n",
       "\n",
       "   ifeature125  ifeature126  ifeature127  ifeature128  \n",
       "0          0.0          0.0          0.0   645.975525  \n",
       "1          0.0          0.0          0.0   513.054871  \n",
       "2          0.0          0.0          0.0   436.987091  \n",
       "3          0.0          0.0          0.0   389.577667  \n",
       "4          0.0          0.0          0.0   353.925629  \n",
       "\n",
       "[5 rows x 128 columns]"
      ]
     },
     "execution_count": 34,
     "metadata": {},
     "output_type": "execute_result"
    }
   ],
   "source": [
    "df_reco1.head()"
   ]
  },
  {
   "cell_type": "code",
   "execution_count": 35,
   "metadata": {},
   "outputs": [
    {
     "data": {
      "text/plain": [
       "coffee table    12543\n",
       "sofa             9680\n",
       "tv stand         7033\n",
       "pouf             3402\n",
       "armchair         3307\n",
       "Name: label, dtype: int64"
      ]
     },
     "execution_count": 35,
     "metadata": {},
     "output_type": "execute_result"
    }
   ],
   "source": [
    "df_reco_1['label'].value_counts()"
   ]
  },
  {
   "cell_type": "code",
   "execution_count": 36,
   "metadata": {},
   "outputs": [],
   "source": [
    "df_reco_1.to_csv('../data/recommender_matrix.csv')"
   ]
  },
  {
   "cell_type": "code",
   "execution_count": null,
   "metadata": {},
   "outputs": [],
   "source": [
    "##End here"
   ]
  },
  {
   "cell_type": "code",
   "execution_count": null,
   "metadata": {},
   "outputs": [],
   "source": []
  },
  {
   "cell_type": "code",
   "execution_count": null,
   "metadata": {},
   "outputs": [],
   "source": []
  },
  {
   "cell_type": "code",
   "execution_count": null,
   "metadata": {},
   "outputs": [],
   "source": []
  },
  {
   "cell_type": "code",
   "execution_count": null,
   "metadata": {},
   "outputs": [],
   "source": [
    "#pull_out=df_recommender.loc[0,:]\n",
    "pic_link = '../data/samples/light-grey-sofa.jpeg'\n",
    "print(pic_link)\n",
    "display(Image(filename=pic_link,width=300, height=300))"
   ]
  },
  {
   "cell_type": "code",
   "execution_count": null,
   "metadata": {},
   "outputs": [],
   "source": [
    "# matrices the input image\n",
    "user_img_matrix=get_input(pic_link)\n"
   ]
  },
  {
   "cell_type": "code",
   "execution_count": null,
   "metadata": {},
   "outputs": [],
   "source": [
    "user_img_matrix = np.expand_dims(user_img_matrix, axis=0)\n",
    "user_img_matrix.shape"
   ]
  },
  {
   "cell_type": "code",
   "execution_count": null,
   "metadata": {},
   "outputs": [],
   "source": [
    "user_data = model_extract.predict(user_img_matrix)"
   ]
  },
  {
   "cell_type": "code",
   "execution_count": null,
   "metadata": {},
   "outputs": [],
   "source": [
    "search_in = np.array(df_recommender.iloc[:,4:])"
   ]
  },
  {
   "cell_type": "code",
   "execution_count": null,
   "metadata": {},
   "outputs": [],
   "source": [
    "print(user_data.shape)\n",
    "print(search_in.shape)"
   ]
  },
  {
   "cell_type": "code",
   "execution_count": null,
   "metadata": {},
   "outputs": [],
   "source": [
    "from sklearn.metrics.pairwise import cosine_similarity\n",
    "results = cosine_similarity(search_in, user_data)"
   ]
  },
  {
   "cell_type": "code",
   "execution_count": null,
   "metadata": {},
   "outputs": [],
   "source": [
    "show_me = pd.DataFrame(results).sort_values(0, ascending=False).head(5)\n",
    "show_me"
   ]
  },
  {
   "cell_type": "code",
   "execution_count": null,
   "metadata": {},
   "outputs": [],
   "source": [
    "recommend = df_recommender.iloc[list(show_me.index),0:4].values\n",
    "print(recommend)"
   ]
  },
  {
   "cell_type": "code",
   "execution_count": null,
   "metadata": {},
   "outputs": [],
   "source": [
    "for i in range(0,5):    \n",
    "    display(Image(url=recommend[i][0],width=244, height=244))\n",
    "    print('Link to page =',  recommend[i][2])"
   ]
  },
  {
   "cell_type": "code",
   "execution_count": null,
   "metadata": {},
   "outputs": [],
   "source": []
  },
  {
   "cell_type": "code",
   "execution_count": null,
   "metadata": {},
   "outputs": [],
   "source": []
  },
  {
   "cell_type": "code",
   "execution_count": null,
   "metadata": {},
   "outputs": [],
   "source": []
  },
  {
   "cell_type": "code",
   "execution_count": null,
   "metadata": {},
   "outputs": [],
   "source": []
  },
  {
   "cell_type": "code",
   "execution_count": null,
   "metadata": {},
   "outputs": [],
   "source": []
  }
 ],
 "metadata": {
  "kernelspec": {
   "display_name": "Python 3",
   "language": "python",
   "name": "python3"
  },
  "language_info": {
   "codemirror_mode": {
    "name": "ipython",
    "version": 3
   },
   "file_extension": ".py",
   "mimetype": "text/x-python",
   "name": "python",
   "nbconvert_exporter": "python",
   "pygments_lexer": "ipython3",
   "version": "3.6.5"
  }
 },
 "nbformat": 4,
 "nbformat_minor": 2
}
