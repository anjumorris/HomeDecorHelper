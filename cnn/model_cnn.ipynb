{
 "cells": [
  {
   "cell_type": "markdown",
   "metadata": {},
   "source": [
    "### 1. IMPORT KERAS AND LIBRARIES"
   ]
  },
  {
   "cell_type": "code",
   "execution_count": null,
   "metadata": {},
   "outputs": [],
   "source": [
    "from keras.applications import VGG16\n",
    "from keras.applications import ResNet50\n",
    "from keras.applications import VGG19\n",
    "from keras_applications.inception_resnet_v2 import InceptionResNetV2\n",
    "import pandas as pd\n",
    "import numpy as np\n",
    "\n",
    "# Libraries for displying the data. \n",
    "from IPython.core.display import HTML \n",
    "from ipywidgets import interact\n",
    "from IPython.display import display\n",
    "from IPython.display import Image\n",
    "\n",
    "print(VGG16.__doc__)\n",
    "print(ResNet50.__doc__)\n",
    "print(VGG19.__doc__)"
   ]
  },
  {
   "cell_type": "code",
   "execution_count": null,
   "metadata": {},
   "outputs": [],
   "source": [
    "# i am trying to use tensor-gpu just to check if things are fine\n",
    "import tensorflow as tf\n",
    "sess = tf.Session(config=tf.ConfigProto(log_device_placement=True))\n",
    "print(sess)"
   ]
  },
  {
   "cell_type": "code",
   "execution_count": 3,
   "metadata": {},
   "outputs": [],
   "source": [
    "from skimage.io import imread\n",
    "from skimage.transform import resize\n",
    "from keras.applications.imagenet_utils import preprocess_input, decode_predictions"
   ]
  },
  {
   "cell_type": "markdown",
   "metadata": {},
   "source": [
    "### 2. HELPER FUNCTIONS"
   ]
  },
  {
   "cell_type": "code",
   "execution_count": 4,
   "metadata": {},
   "outputs": [],
   "source": [
    "size = 224\n",
    "def get_input(img_path):\n",
    "    img = imread(img_path)\n",
    "    img = resize(img, (size, size,3), preserve_range=True).astype(np.float32)\n",
    "    #img = np.expand_dims(img, axis=0)\n",
    "    img = preprocess_input(img)\n",
    "    return img"
   ]
  },
  {
   "cell_type": "code",
   "execution_count": 5,
   "metadata": {},
   "outputs": [],
   "source": [
    "def get_predictions(img_path, model,decode=True):\n",
    "    input_ = get_input(img_path)\n",
    "    out = model.predict(input_)\n",
    "    if decode:\n",
    "        return decode_predictions(out)\n",
    "    else:\n",
    "        return out"
   ]
  },
  {
   "cell_type": "markdown",
   "metadata": {},
   "source": [
    "### 3. LOAD DATA FOR DEEP LEARNING"
   ]
  },
  {
   "cell_type": "code",
   "execution_count": 6,
   "metadata": {},
   "outputs": [
    {
     "name": "stdout",
     "output_type": "stream",
     "text": [
      "(17209, 13)\n"
     ]
    },
    {
     "data": {
      "text/html": [
       "<div>\n",
       "<style scoped>\n",
       "    .dataframe tbody tr th:only-of-type {\n",
       "        vertical-align: middle;\n",
       "    }\n",
       "\n",
       "    .dataframe tbody tr th {\n",
       "        vertical-align: top;\n",
       "    }\n",
       "\n",
       "    .dataframe thead th {\n",
       "        text-align: right;\n",
       "    }\n",
       "</style>\n",
       "<table border=\"1\" class=\"dataframe\">\n",
       "  <thead>\n",
       "    <tr style=\"text-align: right;\">\n",
       "      <th></th>\n",
       "      <th>image_link</th>\n",
       "      <th>product_name</th>\n",
       "      <th>page_link</th>\n",
       "      <th>label</th>\n",
       "      <th>background</th>\n",
       "      <th>delete</th>\n",
       "      <th>item_no</th>\n",
       "      <th>description</th>\n",
       "      <th>style</th>\n",
       "      <th>material</th>\n",
       "      <th>type_class</th>\n",
       "      <th>color</th>\n",
       "      <th>rating</th>\n",
       "    </tr>\n",
       "  </thead>\n",
       "  <tbody>\n",
       "    <tr>\n",
       "      <th>0</th>\n",
       "      <td>https://ak1.ostkcdn.com/images/products/139907...</td>\n",
       "      <td>Carson Carrington Brandbu Mid-century Fold Dow...</td>\n",
       "      <td>https://www.overstock.com/Home-Garden/Carson-C...</td>\n",
       "      <td>sofa</td>\n",
       "      <td>0</td>\n",
       "      <td>0.0</td>\n",
       "      <td>20370480</td>\n",
       "      <td>Inspired by 1950's decor, the Brandbu futon is...</td>\n",
       "      <td>Mid-Century Modern, Scandinavian</td>\n",
       "      <td>Foam, Linen, Wood</td>\n",
       "      <td>Futon Set, Sofa</td>\n",
       "      <td>Blue, Green, Grey, Pink, Yellow</td>\n",
       "      <td>4.1</td>\n",
       "    </tr>\n",
       "    <tr>\n",
       "      <th>1</th>\n",
       "      <td>https://ak1.ostkcdn.com/images/products/139907...</td>\n",
       "      <td>Carson Carrington Brandbu Mid-century Fold Dow...</td>\n",
       "      <td>https://www.overstock.com/Home-Garden/Carson-C...</td>\n",
       "      <td>sofa</td>\n",
       "      <td>0</td>\n",
       "      <td>0.0</td>\n",
       "      <td>20370480</td>\n",
       "      <td>Inspired by 1950's decor, the Brandbu futon is...</td>\n",
       "      <td>Mid-Century Modern, Scandinavian</td>\n",
       "      <td>Foam, Linen, Wood</td>\n",
       "      <td>Futon Set, Sofa</td>\n",
       "      <td>Blue, Green, Grey, Pink, Yellow</td>\n",
       "      <td>4.1</td>\n",
       "    </tr>\n",
       "  </tbody>\n",
       "</table>\n",
       "</div>"
      ],
      "text/plain": [
       "                                          image_link  \\\n",
       "0  https://ak1.ostkcdn.com/images/products/139907...   \n",
       "1  https://ak1.ostkcdn.com/images/products/139907...   \n",
       "\n",
       "                                        product_name  \\\n",
       "0  Carson Carrington Brandbu Mid-century Fold Dow...   \n",
       "1  Carson Carrington Brandbu Mid-century Fold Dow...   \n",
       "\n",
       "                                           page_link label  background  \\\n",
       "0  https://www.overstock.com/Home-Garden/Carson-C...  sofa           0   \n",
       "1  https://www.overstock.com/Home-Garden/Carson-C...  sofa           0   \n",
       "\n",
       "   delete   item_no                                        description  \\\n",
       "0     0.0  20370480  Inspired by 1950's decor, the Brandbu futon is...   \n",
       "1     0.0  20370480  Inspired by 1950's decor, the Brandbu futon is...   \n",
       "\n",
       "                              style           material       type_class  \\\n",
       "0  Mid-Century Modern, Scandinavian  Foam, Linen, Wood  Futon Set, Sofa   \n",
       "1  Mid-Century Modern, Scandinavian  Foam, Linen, Wood  Futon Set, Sofa   \n",
       "\n",
       "                             color  rating  \n",
       "0  Blue, Green, Grey, Pink, Yellow     4.1  \n",
       "1  Blue, Green, Grey, Pink, Yellow     4.1  "
      ]
     },
     "execution_count": 6,
     "metadata": {},
     "output_type": "execute_result"
    }
   ],
   "source": [
    "df = pd.read_csv('../data/model/model_data.csv') \n",
    "df = df.drop(columns = 'Unnamed: 0')\n",
    "print(df.shape)\n",
    "df.head(2)"
   ]
  },
  {
   "cell_type": "markdown",
   "metadata": {},
   "source": [
    "### 4. PREPROCESS IMAGES \n",
    "Do not run this section"
   ]
  },
  {
   "cell_type": "code",
   "execution_count": null,
   "metadata": {},
   "outputs": [],
   "source": [
    "data_store = []"
   ]
  },
  {
   "cell_type": "code",
   "execution_count": null,
   "metadata": {
    "scrolled": true
   },
   "outputs": [],
   "source": [
    "counter = 1\n",
    "for link in df.loc[0:1000,'image_link']:\n",
    "    print(counter)\n",
    "    img_data = get_input(link)\n",
    "    data_store.append(img_data)\n",
    "    counter+=1\n",
    "len(data_store)"
   ]
  },
  {
   "cell_type": "code",
   "execution_count": null,
   "metadata": {},
   "outputs": [],
   "source": [
    "len(data_store)\n",
    "X = np.array(data_store)"
   ]
  },
  {
   "cell_type": "code",
   "execution_count": null,
   "metadata": {},
   "outputs": [],
   "source": [
    "X.shape"
   ]
  },
  {
   "cell_type": "code",
   "execution_count": null,
   "metadata": {},
   "outputs": [],
   "source": [
    "from keras.utils import to_categorical\n",
    "from sklearn.preprocessing import LabelEncoder\n",
    "print(df.shape)\n",
    "y_str = df['label']\n",
    "le = LabelEncoder()\n",
    "y_str = le.fit_transform(y_str)\n",
    "print(y_str)\n",
    "y = to_categorical(y_str) # one hot encodes the classes"
   ]
  },
  {
   "cell_type": "code",
   "execution_count": null,
   "metadata": {},
   "outputs": [],
   "source": [
    "y[0]"
   ]
  },
  {
   "cell_type": "code",
   "execution_count": null,
   "metadata": {},
   "outputs": [],
   "source": [
    "# write \n",
    "import tables\n",
    "\n",
    "h5file = tables.open_file('../data/datasets.h5', mode='w', title=\"Datasets\")\n",
    "root = h5file.root\n",
    "h5file.create_array(root, \"X_full\", X)\n",
    "h5file.create_array(root, \"y_full\", y)\n",
    "h5file.close()"
   ]
  },
  {
   "cell_type": "markdown",
   "metadata": {},
   "source": [
    "### 5. LOAD ALREADY PREPROCESSED IMAGES"
   ]
  },
  {
   "cell_type": "code",
   "execution_count": 7,
   "metadata": {},
   "outputs": [],
   "source": [
    "# read\n",
    "import tables\n",
    "\n",
    "hdf5_file = tables.open_file('../data/datasets.h5', mode='r')\n",
    "X1 = np.array(hdf5_file.root.X_full)\n",
    "y1 = np.array(hdf5_file.root.y_full)\n",
    "hdf5_file.close()"
   ]
  },
  {
   "cell_type": "code",
   "execution_count": 8,
   "metadata": {},
   "outputs": [
    {
     "data": {
      "text/plain": [
       "(17209, 224, 224, 3)"
      ]
     },
     "execution_count": 8,
     "metadata": {},
     "output_type": "execute_result"
    }
   ],
   "source": [
    "X1.shape"
   ]
  },
  {
   "cell_type": "code",
   "execution_count": 9,
   "metadata": {},
   "outputs": [],
   "source": [
    "from sklearn.model_selection import train_test_split\n",
    "X_train, X_test, y_train, y_test = train_test_split(X1, y1, test_size=0.30, stratify=y1, random_state=36)"
   ]
  },
  {
   "cell_type": "code",
   "execution_count": 10,
   "metadata": {},
   "outputs": [
    {
     "name": "stdout",
     "output_type": "stream",
     "text": [
      "(12046, 224, 224, 3)\n",
      "(12046, 5)\n",
      "(5163, 224, 224, 3)\n",
      "(5163, 5)\n"
     ]
    }
   ],
   "source": [
    "print(X_train.shape)\n",
    "print(y_train.shape)\n",
    "print(X_test.shape)\n",
    "print(y_test.shape)"
   ]
  },
  {
   "cell_type": "markdown",
   "metadata": {},
   "source": [
    "### 6. DEEP LEARNING MODEL"
   ]
  },
  {
   "cell_type": "code",
   "execution_count": 42,
   "metadata": {},
   "outputs": [],
   "source": [
    "import matplotlib.pyplot as plt\n",
    "from sklearn.metrics import confusion_matrix\n",
    "import itertools\n",
    "import keras\n",
    "from keras import models, layers, optimizers\n",
    "from keras.layers import Dense, Dropout, Activation, Flatten, Conv2D, MaxPooling2D, Lambda, MaxPool2D, BatchNormalization\n",
    "from keras.models import Model\n",
    "from keras.callbacks import Callback, EarlyStopping, ReduceLROnPlateau, ModelCheckpoint"
   ]
  },
  {
   "cell_type": "markdown",
   "metadata": {},
   "source": [
    "#### A. MODEL HELPER FUNCTIONS"
   ]
  },
  {
   "cell_type": "code",
   "execution_count": 43,
   "metadata": {},
   "outputs": [],
   "source": [
    "\n",
    "class MetricsCheckpoint(Callback):\n",
    "    \"\"\"Callback that saves metrics after each epoch\"\"\"\n",
    "    def __init__(self, savepath):\n",
    "        super(MetricsCheckpoint, self).__init__()\n",
    "        self.savepath = savepath\n",
    "        self.history = {}\n",
    "    def on_epoch_end(self, epoch, logs=None):\n",
    "        for k, v in logs.items():\n",
    "            self.history.setdefault(k, []).append(v)\n",
    "        np.save(self.savepath, self.history)\n",
    "        \n",
    "def plotKerasLearningCurve():\n",
    "    plt.figure(figsize=(10,5))\n",
    "    metrics = np.load('logs.npy')[()]\n",
    "    filt = ['acc'] # try to add 'loss' to see the loss learning curve\n",
    "    for k in filter(lambda x : np.any([kk in x for kk in filt]), metrics.keys()):\n",
    "        l = np.array(metrics[k])\n",
    "        plt.plot(l, c= 'r' if 'val' not in k else 'b', label='val' if 'val' in k else 'train')\n",
    "        x = np.argmin(l) if 'loss' in k else np.argmax(l)\n",
    "        y = l[x]\n",
    "        plt.scatter(x,y, lw=0, alpha=0.25, s=100, c='r' if 'val' not in k else 'b')\n",
    "        plt.text(x, y, '{} = {:.4f}'.format(x,y), size='15', color= 'r' if 'val' not in k else 'b')   \n",
    "    plt.legend(loc=4)\n",
    "    plt.axis([0, None, None, None]);\n",
    "    plt.grid()\n",
    "    plt.xlabel('Number of epochs')\n",
    "    plt.ylabel('Accuracy')\n",
    "\n",
    "def plot_confusion_matrix(cm, classes,\n",
    "                          normalize=False,\n",
    "                          title='Confusion matrix',\n",
    "                          cmap=plt.cm.Blues):\n",
    "    \"\"\"\n",
    "    This function prints and plots the confusion matrix.\n",
    "    Normalization can be applied by setting `normalize=True`.\n",
    "    \"\"\"\n",
    "    plt.figure(figsize = (5,5))\n",
    "    plt.imshow(cm, interpolation='nearest', cmap=cmap)\n",
    "    plt.title(title)\n",
    "    plt.colorbar()\n",
    "    tick_marks = np.arange(len(classes))\n",
    "    plt.xticks(tick_marks, classes, rotation=90)\n",
    "    plt.yticks(tick_marks, classes)\n",
    "    if normalize:\n",
    "        cm = cm.astype('float') / cm.sum(axis=1)[:, np.newaxis]\n",
    "\n",
    "    thresh = cm.max() / 2.\n",
    "    for i, j in itertools.product(range(cm.shape[0]), range(cm.shape[1])):\n",
    "        plt.text(j, i, cm[i, j],\n",
    "                 horizontalalignment=\"center\",\n",
    "                 color=\"white\" if cm[i, j] > thresh else \"black\")\n",
    "    plt.tight_layout()\n",
    "    plt.ylabel('True label')\n",
    "    plt.xlabel('Predicted label')\n",
    "\n",
    "def plot_learning_curve(history):\n",
    "    plt.figure(figsize=(8,8))\n",
    "    plt.subplot(1,2,1)\n",
    "    plt.plot(history.history['acc'])\n",
    "    plt.plot(history.history['val_acc'])\n",
    "    plt.title('model accuracy')\n",
    "    plt.ylabel('accuracy')\n",
    "    plt.xlabel('epoch')\n",
    "    plt.legend(['train', 'test'], loc='upper left')\n",
    "    plt.savefig('./accuracy_curve.png')\n",
    "    plt.subplot(1,2,2)\n",
    "    plt.plot(history.history['loss'])\n",
    "    plt.plot(history.history['val_loss'])\n",
    "    plt.title('model loss')\n",
    "    plt.ylabel('loss')\n",
    "    plt.xlabel('epoch')\n",
    "    plt.legend(['train', 'test'], loc='upper left')\n",
    "    plt.savefig('./loss_curve.png')"
   ]
  },
  {
   "cell_type": "markdown",
   "metadata": {},
   "source": [
    "#### B. SETUP\n",
    "Lables, base model, optimizer, my layers"
   ]
  },
  {
   "cell_type": "code",
   "execution_count": 44,
   "metadata": {},
   "outputs": [],
   "source": [
    "# class weight for imbalanced classes not being used\n",
    "from sklearn.utils import class_weight\n",
    "#class_weight1 = class_weight.compute_class_weight('balanced', np.unique(y_train), y_train)"
   ]
  },
  {
   "cell_type": "code",
   "execution_count": 45,
   "metadata": {},
   "outputs": [],
   "source": [
    "# map categories for labels\n",
    "mapcharacter1 = {0:'armchair',1: 'coffee', 2:'pouf', 3: 'sofa', 4: 'tv'}\n",
    "mapcharacter2 = {0: 'coffee',1: 'sofa', 2: 'tv'}"
   ]
  },
  {
   "cell_type": "code",
   "execution_count": 46,
   "metadata": {},
   "outputs": [],
   "source": [
    "# set labels, image size, what base-model you want, what optimizer you want\n",
    "\n",
    "labels = mapcharacter1\n",
    "imageSize=224\n",
    "base_network_selector='vgg16' # vgg16,res50\n",
    "optimizer_selector='adam' \n",
    "\n",
    "# select base network\n",
    "if(base_network_selector=='vgg16'):\n",
    "    base_model = VGG16(weights='imagenet', include_top=False,\\\n",
    "                          input_shape=(imageSize, imageSize, 3))\n",
    "if(base_network_selector=='res50'):\n",
    "    base_model = ResNet50(weights='imagenet',include_top=False,\\\n",
    "                             input_shape=(imageSize, imageSize, 3))\n",
    "if(base_network_selector=='vgg19'):\n",
    "    base_model = VGG19(weights='imagenet', include_top=False,\\\n",
    "                          input_shape=(imageSize, imageSize, 3))\n",
    "\n",
    "# if(base_network_selector=='inv_res'):\n",
    "#     base_model = keras.applications.inception_resnet_v2.InceptionResNetV2(weights='imagenet',include_top=False,\\\n",
    "#                                    input_shape=(imageSize, imageSize, 3))\n",
    "    \n",
    "# select the optimizer\n",
    "if(optimizer_selector=='adam'):    \n",
    "    my_optimizer = optimizers.Adam()\n",
    "if(optimizer_selector=='sgd'):     \n",
    "    my_optimzer = optimizers.SGD()\n",
    "if(optimizer_selector=='RMS'):\n",
    "    my_optimzer = optimizers.RMSprop()\n",
    "if(optimizer_selector=='ada_grad'):\n",
    "    my_optimzer = optimizers.Adagrad()\n",
    "if(optimizer_selector=='ada_delta'):\n",
    "    my_optimzer = optimizers.Adadelta()\n",
    "if(optimizer_selector=='ada_max'):\n",
    "    my_optimzer = optimizers.Adamax()"
   ]
  },
  {
   "cell_type": "code",
   "execution_count": 47,
   "metadata": {},
   "outputs": [
    {
     "name": "stdout",
     "output_type": "stream",
     "text": [
      "_________________________________________________________________\n",
      "Layer (type)                 Output Shape              Param #   \n",
      "=================================================================\n",
      "input_4 (InputLayer)         (None, 224, 224, 3)       0         \n",
      "_________________________________________________________________\n",
      "block1_conv1 (Conv2D)        (None, 224, 224, 64)      1792      \n",
      "_________________________________________________________________\n",
      "block1_conv2 (Conv2D)        (None, 224, 224, 64)      36928     \n",
      "_________________________________________________________________\n",
      "block1_pool (MaxPooling2D)   (None, 112, 112, 64)      0         \n",
      "_________________________________________________________________\n",
      "block2_conv1 (Conv2D)        (None, 112, 112, 128)     73856     \n",
      "_________________________________________________________________\n",
      "block2_conv2 (Conv2D)        (None, 112, 112, 128)     147584    \n",
      "_________________________________________________________________\n",
      "block2_pool (MaxPooling2D)   (None, 56, 56, 128)       0         \n",
      "_________________________________________________________________\n",
      "block3_conv1 (Conv2D)        (None, 56, 56, 256)       295168    \n",
      "_________________________________________________________________\n",
      "block3_conv2 (Conv2D)        (None, 56, 56, 256)       590080    \n",
      "_________________________________________________________________\n",
      "block3_conv3 (Conv2D)        (None, 56, 56, 256)       590080    \n",
      "_________________________________________________________________\n",
      "block3_pool (MaxPooling2D)   (None, 28, 28, 256)       0         \n",
      "_________________________________________________________________\n",
      "block4_conv1 (Conv2D)        (None, 28, 28, 512)       1180160   \n",
      "_________________________________________________________________\n",
      "block4_conv2 (Conv2D)        (None, 28, 28, 512)       2359808   \n",
      "_________________________________________________________________\n",
      "block4_conv3 (Conv2D)        (None, 28, 28, 512)       2359808   \n",
      "_________________________________________________________________\n",
      "block4_pool (MaxPooling2D)   (None, 14, 14, 512)       0         \n",
      "_________________________________________________________________\n",
      "block5_conv1 (Conv2D)        (None, 14, 14, 512)       2359808   \n",
      "_________________________________________________________________\n",
      "block5_conv2 (Conv2D)        (None, 14, 14, 512)       2359808   \n",
      "_________________________________________________________________\n",
      "block5_conv3 (Conv2D)        (None, 14, 14, 512)       2359808   \n",
      "_________________________________________________________________\n",
      "block5_pool (MaxPooling2D)   (None, 7, 7, 512)         0         \n",
      "_________________________________________________________________\n",
      "flatten_4 (Flatten)          (None, 25088)             0         \n",
      "_________________________________________________________________\n",
      "fc1 (Dense)                  (None, 128)               3211392   \n",
      "_________________________________________________________________\n",
      "fc2 (Dense)                  (None, 64)                8256      \n",
      "_________________________________________________________________\n",
      "dropout_4 (Dropout)          (None, 64)                0         \n",
      "_________________________________________________________________\n",
      "dense_4 (Dense)              (None, 5)                 325       \n",
      "=================================================================\n",
      "Total params: 17,934,661\n",
      "Trainable params: 3,219,973\n",
      "Non-trainable params: 14,714,688\n",
      "_________________________________________________________________\n"
     ]
    }
   ],
   "source": [
    "# set ephochs, classes, batch size\n",
    "\n",
    "numepochs = 20\n",
    "number_classes = 5\n",
    "b_size = 32\n",
    "\n",
    "# Add custom fully connected layers \n",
    "x = base_model.output\n",
    "x = Flatten()(x)\n",
    "x = Dense(128, activation='relu', name='fc1')(x)\n",
    "x = Dense(64, activation='relu', name='fc2')(x)\n",
    "#x = Dense(32, activation='relu', name='fc3')(x)\n",
    "x = Dropout(0.50)(x)\n",
    "\n",
    "\n",
    "# Add the last softmax layer\n",
    "predictions = Dense(number_classes, activation='softmax')(x)\n",
    "model = Model(inputs=base_model.input, outputs=predictions)\n",
    "    \n",
    "# Freeze layers from the base model\n",
    "for layer in base_model.layers: \n",
    "    layer.trainable = False\n",
    "    \n",
    "# Compile model and print its summary\n",
    "model.compile(loss='categorical_crossentropy', optimizer=my_optimizer, metrics=['accuracy'])\n",
    "callbacks_list = [keras.callbacks.EarlyStopping(monitor='val_acc', patience=3, verbose=1)]\n",
    "model.summary()"
   ]
  },
  {
   "cell_type": "markdown",
   "metadata": {},
   "source": [
    "#### C. RUN MODEL"
   ]
  },
  {
   "cell_type": "code",
   "execution_count": 48,
   "metadata": {},
   "outputs": [],
   "source": [
    "model_file = 'weights.{epoch:02d}-{val_loss:.2f}.hdf5'\n",
    "checkpoint = ModelCheckpoint(model_file, monitor='val_acc', verbose=1, save_best_only=True, save_weights_only=False, mode='auto', period=1)\n",
    "early = EarlyStopping(monitor='val_acc', min_delta=0, patience=10, verbose=1, mode='auto')\n",
    "#tensorboard = TensorBoard(log_dir='../logs', histogram_freq=0,\n",
    "                          #write_graph=True, write_images=False)"
   ]
  },
  {
   "cell_type": "code",
   "execution_count": 49,
   "metadata": {},
   "outputs": [
    {
     "name": "stdout",
     "output_type": "stream",
     "text": [
      "Train on 12046 samples, validate on 5163 samples\n",
      "Epoch 1/20\n",
      "12046/12046 [==============================] - 29s 2ms/step - loss: 3.7670 - acc: 0.7468 - val_loss: 1.8766 - val_acc: 0.8772\n",
      "\n",
      "Epoch 00001: val_acc improved from -inf to 0.87720, saving model to weights.01-1.88.hdf5\n",
      "Epoch 2/20\n",
      "12046/12046 [==============================] - 28s 2ms/step - loss: 2.4883 - acc: 0.8369 - val_loss: 1.6060 - val_acc: 0.8972\n",
      "\n",
      "Epoch 00002: val_acc improved from 0.87720 to 0.89715, saving model to weights.02-1.61.hdf5\n",
      "Epoch 3/20\n",
      "12046/12046 [==============================] - 28s 2ms/step - loss: 1.9306 - acc: 0.8749 - val_loss: 1.8547 - val_acc: 0.8805\n",
      "\n",
      "Epoch 00003: val_acc did not improve from 0.89715\n",
      "Epoch 4/20\n",
      "12046/12046 [==============================] - 28s 2ms/step - loss: 1.9201 - acc: 0.8769 - val_loss: 1.5274 - val_acc: 0.9024\n",
      "\n",
      "Epoch 00004: val_acc improved from 0.89715 to 0.90238, saving model to weights.04-1.53.hdf5\n",
      "Epoch 5/20\n",
      "12046/12046 [==============================] - 28s 2ms/step - loss: 1.7917 - acc: 0.8851 - val_loss: 1.7675 - val_acc: 0.8884\n",
      "\n",
      "Epoch 00005: val_acc did not improve from 0.90238\n",
      "Epoch 6/20\n",
      "12046/12046 [==============================] - 28s 2ms/step - loss: 1.6451 - acc: 0.8952 - val_loss: 1.5135 - val_acc: 0.9039\n",
      "\n",
      "Epoch 00006: val_acc improved from 0.90238 to 0.90393, saving model to weights.06-1.51.hdf5\n",
      "Epoch 7/20\n",
      "12046/12046 [==============================] - 28s 2ms/step - loss: 1.6702 - acc: 0.8941 - val_loss: 1.5922 - val_acc: 0.8991\n",
      "\n",
      "Epoch 00007: val_acc did not improve from 0.90393\n",
      "Epoch 8/20\n",
      "12046/12046 [==============================] - 28s 2ms/step - loss: 1.5437 - acc: 0.9023 - val_loss: 1.7572 - val_acc: 0.8888\n",
      "\n",
      "Epoch 00008: val_acc did not improve from 0.90393\n",
      "Epoch 9/20\n",
      "12046/12046 [==============================] - 28s 2ms/step - loss: 1.6660 - acc: 0.8946 - val_loss: 1.5559 - val_acc: 0.9014\n",
      "\n",
      "Epoch 00009: val_acc did not improve from 0.90393\n",
      "Epoch 10/20\n",
      "12046/12046 [==============================] - 28s 2ms/step - loss: 1.4981 - acc: 0.9055 - val_loss: 1.7753 - val_acc: 0.8877\n",
      "\n",
      "Epoch 00010: val_acc did not improve from 0.90393\n",
      "Epoch 11/20\n",
      "12046/12046 [==============================] - 28s 2ms/step - loss: 1.4922 - acc: 0.9056 - val_loss: 1.6085 - val_acc: 0.8987\n",
      "\n",
      "Epoch 00011: val_acc did not improve from 0.90393\n",
      "Epoch 12/20\n",
      "12046/12046 [==============================] - 28s 2ms/step - loss: 1.5790 - acc: 0.9005 - val_loss: 1.7222 - val_acc: 0.8917\n",
      "\n",
      "Epoch 00012: val_acc did not improve from 0.90393\n",
      "Epoch 13/20\n",
      "12046/12046 [==============================] - 28s 2ms/step - loss: 1.5159 - acc: 0.9050 - val_loss: 1.7251 - val_acc: 0.8919\n",
      "\n",
      "Epoch 00013: val_acc did not improve from 0.90393\n",
      "Epoch 14/20\n",
      "12046/12046 [==============================] - 28s 2ms/step - loss: 1.6955 - acc: 0.8935 - val_loss: 1.5457 - val_acc: 0.9030\n",
      "\n",
      "Epoch 00014: val_acc did not improve from 0.90393\n",
      "Epoch 15/20\n",
      "12046/12046 [==============================] - 28s 2ms/step - loss: 1.3711 - acc: 0.9139 - val_loss: 1.4099 - val_acc: 0.9109\n",
      "\n",
      "Epoch 00015: val_acc improved from 0.90393 to 0.91090, saving model to weights.15-1.41.hdf5\n",
      "Epoch 16/20\n",
      "12046/12046 [==============================] - 28s 2ms/step - loss: 1.4125 - acc: 0.9113 - val_loss: 1.4907 - val_acc: 0.9066\n",
      "\n",
      "Epoch 00016: val_acc did not improve from 0.91090\n",
      "Epoch 17/20\n",
      "12046/12046 [==============================] - 28s 2ms/step - loss: 1.5514 - acc: 0.9026 - val_loss: 1.6302 - val_acc: 0.8975\n",
      "\n",
      "Epoch 00017: val_acc did not improve from 0.91090\n",
      "Epoch 18/20\n",
      "12046/12046 [==============================] - 28s 2ms/step - loss: 1.5593 - acc: 0.9023 - val_loss: 1.6934 - val_acc: 0.8933\n",
      "\n",
      "Epoch 00018: val_acc did not improve from 0.91090\n",
      "Epoch 19/20\n",
      "12046/12046 [==============================] - 28s 2ms/step - loss: 1.4242 - acc: 0.9110 - val_loss: 1.5999 - val_acc: 0.8997\n",
      "\n",
      "Epoch 00019: val_acc did not improve from 0.91090\n",
      "Epoch 20/20\n",
      "12046/12046 [==============================] - 28s 2ms/step - loss: 1.6636 - acc: 0.8950 - val_loss: 1.3583 - val_acc: 0.9150\n",
      "\n",
      "Epoch 00020: val_acc improved from 0.91090 to 0.91497, saving model to weights.20-1.36.hdf5\n",
      "<keras.callbacks.History object at 0x7f5803714710>\n"
     ]
    }
   ],
   "source": [
    "\n",
    "augment = False #whether to use augmented data or only only orignal data to train the model\n",
    "\n",
    "# with augmentation\n",
    "if (augment == True):\n",
    "    from keras.preprocessing.image import ImageDataGenerator\n",
    "    datagen = ImageDataGenerator(\n",
    "        featurewise_center=False,\n",
    "        featurewise_std_normalization=False,\n",
    "        rotation_range=0,\n",
    "        width_shift_range=0,\n",
    "        height_shift_range=0,\n",
    "        horizontal_flip=True,\n",
    "        vertical_flip=True)\n",
    "\n",
    "    datagen.fit(X_train)\n",
    "    history = model.fit_generator(datagen.flow(X_train,y_train, batch_size=b_size),\n",
    "                                      steps_per_epoch=len(X_train)/b_size, \n",
    "                                      epochs=numepochs,\n",
    "                                      validation_data=(X_test,y_test), \n",
    "                                      verbose=1,\n",
    "                                      callbacks = [MetricsCheckpoint('logs')])\n",
    "\n",
    "# no augmentation\n",
    "if (augment == False):\n",
    "    history = model.fit(X_train,y_train, batch_size=b_size,epochs=numepochs,validation_data=(X_test,y_test), verbose=1 ,callbacks = [MetricsCheckpoint('logs'),checkpoint,early])\n",
    "\n",
    "print(history)  "
   ]
  },
  {
   "cell_type": "markdown",
   "metadata": {},
   "source": [
    "#### D. TEST AND VISUALIZE MODEL "
   ]
  },
  {
   "cell_type": "code",
   "execution_count": 50,
   "metadata": {},
   "outputs": [
    {
     "data": {
      "image/png": "[encoded data removed]",
      "text/plain": [
       "<Figure size 720x360 with 1 Axes>"
      ]
     },
     "metadata": {},
     "output_type": "display_data"
    },
    {
     "data": {
      "image/png": "[encoded data removed]",
      "text/plain": [
       "<Figure size 576x576 with 2 Axes>"
      ]
     },
     "metadata": {},
     "output_type": "display_data"
    },
    {
     "data": {
      "image/png": "[encoded data removed]",
      "text/plain": [
       "<Figure size 360x360 with 2 Axes>"
      ]
     },
     "metadata": {},
     "output_type": "display_data"
    }
   ],
   "source": [
    "y_pred = model.predict(X_test)\n",
    "y_pred_classes = np.argmax(y_pred,axis = 1)  # reconverts back from one hot encoded \n",
    "y_true = np.argmax(y_test,axis = 1)  # reconverts back from one hot encoded\n",
    "confusion_mtx = confusion_matrix(y_true,y_pred_classes)\n",
    "plotKerasLearningCurve()\n",
    "plot_learning_curve(history)\n",
    "plot_confusion_matrix(confusion_mtx, classes = list(labels.values()))"
   ]
  },
  {
   "cell_type": "code",
   "execution_count": null,
   "metadata": {},
   "outputs": [],
   "source": [
    "z = model.predict(X_test)"
   ]
  },
  {
   "cell_type": "code",
   "execution_count": 51,
   "metadata": {},
   "outputs": [],
   "source": [
    "model.save('../data/model_final.h5')   "
   ]
  },
  {
   "cell_type": "code",
   "execution_count": null,
   "metadata": {},
   "outputs": [],
   "source": []
  },
  {
   "cell_type": "code",
   "execution_count": null,
   "metadata": {},
   "outputs": [],
   "source": []
  },
  {
   "cell_type": "code",
   "execution_count": null,
   "metadata": {},
   "outputs": [],
   "source": []
  },
  {
   "cell_type": "code",
   "execution_count": null,
   "metadata": {},
   "outputs": [],
   "source": []
  },
  {
   "cell_type": "code",
   "execution_count": null,
   "metadata": {},
   "outputs": [],
   "source": []
  },
  {
   "cell_type": "code",
   "execution_count": null,
   "metadata": {},
   "outputs": [],
   "source": []
  }
 ],
 "metadata": {
  "kernelspec": {
   "display_name": "Python 3",
   "language": "python",
   "name": "python3"
  },
  "language_info": {
   "codemirror_mode": {
    "name": "ipython",
    "version": 3
   },
   "file_extension": ".py",
   "mimetype": "text/x-python",
   "name": "python",
   "nbconvert_exporter": "python",
   "pygments_lexer": "ipython3",
   "version": "3.6.5"
  }
 },
 "nbformat": 4,
 "nbformat_minor": 2
}
