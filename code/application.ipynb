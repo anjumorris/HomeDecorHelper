{
 "cells": [
  {
   "cell_type": "markdown",
   "metadata": {},
   "source": [
    "# 4. Application\n",
    "This sheet can be run\n",
    "Combines image model features and nlp features to provide recommend furniture"
   ]
  },
  {
   "cell_type": "markdown",
   "metadata": {},
   "source": [
    "### 1. IMPORTS AND LIBRARIES"
   ]
  },
  {
   "cell_type": "code",
   "execution_count": 16,
   "metadata": {},
   "outputs": [],
   "source": [
    "import numpy as np\n",
    "import pandas as pd\n",
    "\n",
    "from keras.applications import VGG16\n",
    "import tables\n",
    "import dill\n",
    "\n",
    "\n",
    "\n",
    "# Libraries for displying the data. \n",
    "from IPython.core.display import HTML \n",
    "from ipywidgets import interact\n",
    "from IPython.display import display\n",
    "from IPython.display import Image"
   ]
  },
  {
   "cell_type": "code",
   "execution_count": 17,
   "metadata": {},
   "outputs": [],
   "source": [
    "import itertools\n",
    "from keras.models import Model\n",
    "import keras\n",
    "from keras import models, layers, optimizers\n",
    "from keras.layers import Dense, Dropout, Activation, Flatten, Conv2D, MaxPooling2D, Lambda, MaxPool2D, BatchNormalization\n",
    "from keras.callbacks import Callback, EarlyStopping, ReduceLROnPlateau, ModelCheckpoint"
   ]
  },
  {
   "cell_type": "code",
   "execution_count": 18,
   "metadata": {},
   "outputs": [
    {
     "name": "stdout",
     "output_type": "stream",
     "text": [
      "<tensorflow.python.client.session.Session object at 0x7fb3ccc5cf98>\n"
     ]
    }
   ],
   "source": [
    "import tensorflow as tf\n",
    "sess = tf.Session(config=tf.ConfigProto(log_device_placement=True))\n",
    "print(sess)"
   ]
  },
  {
   "cell_type": "code",
   "execution_count": 19,
   "metadata": {},
   "outputs": [],
   "source": [
    "from skimage.io import imread\n",
    "from skimage.transform import resize\n",
    "from keras.applications.imagenet_utils import preprocess_input, decode_predictions"
   ]
  },
  {
   "cell_type": "markdown",
   "metadata": {},
   "source": [
    "### 2. HELPER FUNCTIONS"
   ]
  },
  {
   "cell_type": "code",
   "execution_count": 20,
   "metadata": {},
   "outputs": [],
   "source": [
    "size = 224\n",
    "def get_input(img_path):\n",
    "    img = imread(img_path)\n",
    "    img = resize(img, (size, size,3), preserve_range=True).astype(np.float32)\n",
    "    #img = np.expand_dims(img, axis=0)\n",
    "    img = preprocess_input(img)\n",
    "    return img"
   ]
  },
  {
   "cell_type": "code",
   "execution_count": 21,
   "metadata": {},
   "outputs": [],
   "source": [
    "def get_predictions(img_path, model,decode=True):\n",
    "    input_ = get_input(img_path)\n",
    "    out = model.predict(input_)\n",
    "    if decode:\n",
    "        return decode_predictions(out)\n",
    "    else:\n",
    "        return out"
   ]
  },
  {
   "cell_type": "markdown",
   "metadata": {},
   "source": [
    "### 3. LOAD IMAGE RECOMMENDER DATA"
   ]
  },
  {
   "cell_type": "code",
   "execution_count": 23,
   "metadata": {},
   "outputs": [
    {
     "name": "stdout",
     "output_type": "stream",
     "text": [
      "(35965, 132)\n"
     ]
    },
    {
     "data": {
      "text/html": [
       "<div>\n",
       "<style scoped>\n",
       "    .dataframe tbody tr th:only-of-type {\n",
       "        vertical-align: middle;\n",
       "    }\n",
       "\n",
       "    .dataframe tbody tr th {\n",
       "        vertical-align: top;\n",
       "    }\n",
       "\n",
       "    .dataframe thead th {\n",
       "        text-align: right;\n",
       "    }\n",
       "</style>\n",
       "<table border=\"1\" class=\"dataframe\">\n",
       "  <thead>\n",
       "    <tr style=\"text-align: right;\">\n",
       "      <th></th>\n",
       "      <th>image_link</th>\n",
       "      <th>product_name</th>\n",
       "      <th>page_link</th>\n",
       "      <th>label</th>\n",
       "      <th>ifeature1</th>\n",
       "      <th>ifeature2</th>\n",
       "      <th>ifeature3</th>\n",
       "      <th>ifeature4</th>\n",
       "      <th>ifeature5</th>\n",
       "      <th>ifeature6</th>\n",
       "      <th>...</th>\n",
       "      <th>ifeature119</th>\n",
       "      <th>ifeature120</th>\n",
       "      <th>ifeature121</th>\n",
       "      <th>ifeature122</th>\n",
       "      <th>ifeature123</th>\n",
       "      <th>ifeature124</th>\n",
       "      <th>ifeature125</th>\n",
       "      <th>ifeature126</th>\n",
       "      <th>ifeature127</th>\n",
       "      <th>ifeature128</th>\n",
       "    </tr>\n",
       "  </thead>\n",
       "  <tbody>\n",
       "    <tr>\n",
       "      <th>0</th>\n",
       "      <td>https://ak1.ostkcdn.com/images/products/139907...</td>\n",
       "      <td>Carson Carrington Brandbu Mid-century Fold Dow...</td>\n",
       "      <td>https://www.overstock.com/Home-Garden/Carson-C...</td>\n",
       "      <td>sofa</td>\n",
       "      <td>0.0</td>\n",
       "      <td>0.0</td>\n",
       "      <td>0.0</td>\n",
       "      <td>0.0</td>\n",
       "      <td>809.76886</td>\n",
       "      <td>0.0</td>\n",
       "      <td>...</td>\n",
       "      <td>0.0</td>\n",
       "      <td>0.0</td>\n",
       "      <td>0.0</td>\n",
       "      <td>0.0</td>\n",
       "      <td>0.0</td>\n",
       "      <td>0.0</td>\n",
       "      <td>0.0</td>\n",
       "      <td>0.0</td>\n",
       "      <td>0.0</td>\n",
       "      <td>645.9755</td>\n",
       "    </tr>\n",
       "    <tr>\n",
       "      <th>1</th>\n",
       "      <td>https://ak1.ostkcdn.com/images/products/139907...</td>\n",
       "      <td>Carson Carrington Brandbu Mid-century Fold Dow...</td>\n",
       "      <td>https://www.overstock.com/Home-Garden/Carson-C...</td>\n",
       "      <td>sofa</td>\n",
       "      <td>0.0</td>\n",
       "      <td>0.0</td>\n",
       "      <td>0.0</td>\n",
       "      <td>0.0</td>\n",
       "      <td>606.45230</td>\n",
       "      <td>0.0</td>\n",
       "      <td>...</td>\n",
       "      <td>0.0</td>\n",
       "      <td>0.0</td>\n",
       "      <td>0.0</td>\n",
       "      <td>0.0</td>\n",
       "      <td>0.0</td>\n",
       "      <td>0.0</td>\n",
       "      <td>0.0</td>\n",
       "      <td>0.0</td>\n",
       "      <td>0.0</td>\n",
       "      <td>513.0549</td>\n",
       "    </tr>\n",
       "  </tbody>\n",
       "</table>\n",
       "<p>2 rows × 132 columns</p>\n",
       "</div>"
      ],
      "text/plain": [
       "                                          image_link  \\\n",
       "0  https://ak1.ostkcdn.com/images/products/139907...   \n",
       "1  https://ak1.ostkcdn.com/images/products/139907...   \n",
       "\n",
       "                                        product_name  \\\n",
       "0  Carson Carrington Brandbu Mid-century Fold Dow...   \n",
       "1  Carson Carrington Brandbu Mid-century Fold Dow...   \n",
       "\n",
       "                                           page_link label  ifeature1  \\\n",
       "0  https://www.overstock.com/Home-Garden/Carson-C...  sofa        0.0   \n",
       "1  https://www.overstock.com/Home-Garden/Carson-C...  sofa        0.0   \n",
       "\n",
       "   ifeature2  ifeature3  ifeature4  ifeature5  ifeature6     ...       \\\n",
       "0        0.0        0.0        0.0  809.76886        0.0     ...        \n",
       "1        0.0        0.0        0.0  606.45230        0.0     ...        \n",
       "\n",
       "   ifeature119  ifeature120  ifeature121  ifeature122  ifeature123  \\\n",
       "0          0.0          0.0          0.0          0.0          0.0   \n",
       "1          0.0          0.0          0.0          0.0          0.0   \n",
       "\n",
       "   ifeature124  ifeature125  ifeature126  ifeature127  ifeature128  \n",
       "0          0.0          0.0          0.0          0.0     645.9755  \n",
       "1          0.0          0.0          0.0          0.0     513.0549  \n",
       "\n",
       "[2 rows x 132 columns]"
      ]
     },
     "execution_count": 23,
     "metadata": {},
     "output_type": "execute_result"
    }
   ],
   "source": [
    "df_image = pd.read_csv('../data/model/recommender_matrix.csv') \n",
    "df_image = df_image.drop(columns = ['Unnamed: 0'])\n",
    "print(df_image.shape)\n",
    "df_image.head(2)"
   ]
  },
  {
   "cell_type": "code",
   "execution_count": 25,
   "metadata": {},
   "outputs": [
    {
     "data": {
      "text/plain": [
       "coffee table    12543\n",
       "sofa             9680\n",
       "tv stand         7033\n",
       "pouf             3402\n",
       "armchair         3307\n",
       "Name: label, dtype: int64"
      ]
     },
     "execution_count": 25,
     "metadata": {},
     "output_type": "execute_result"
    }
   ],
   "source": [
    "df_image['label'].value_counts()"
   ]
  },
  {
   "cell_type": "markdown",
   "metadata": {},
   "source": [
    "### 4. LOAD IMAGE MODEL "
   ]
  },
  {
   "cell_type": "code",
   "execution_count": 30,
   "metadata": {},
   "outputs": [],
   "source": [
    "my_model=models.load_model('../data/model/final_cnn_model.hdf5')"
   ]
  },
  {
   "cell_type": "code",
   "execution_count": 31,
   "metadata": {},
   "outputs": [
    {
     "name": "stdout",
     "output_type": "stream",
     "text": [
      "_________________________________________________________________\n",
      "Layer (type)                 Output Shape              Param #   \n",
      "=================================================================\n",
      "input_4 (InputLayer)         (None, 224, 224, 3)       0         \n",
      "_________________________________________________________________\n",
      "block1_conv1 (Conv2D)        (None, 224, 224, 64)      1792      \n",
      "_________________________________________________________________\n",
      "block1_conv2 (Conv2D)        (None, 224, 224, 64)      36928     \n",
      "_________________________________________________________________\n",
      "block1_pool (MaxPooling2D)   (None, 112, 112, 64)      0         \n",
      "_________________________________________________________________\n",
      "block2_conv1 (Conv2D)        (None, 112, 112, 128)     73856     \n",
      "_________________________________________________________________\n",
      "block2_conv2 (Conv2D)        (None, 112, 112, 128)     147584    \n",
      "_________________________________________________________________\n",
      "block2_pool (MaxPooling2D)   (None, 56, 56, 128)       0         \n",
      "_________________________________________________________________\n",
      "block3_conv1 (Conv2D)        (None, 56, 56, 256)       295168    \n",
      "_________________________________________________________________\n",
      "block3_conv2 (Conv2D)        (None, 56, 56, 256)       590080    \n",
      "_________________________________________________________________\n",
      "block3_conv3 (Conv2D)        (None, 56, 56, 256)       590080    \n",
      "_________________________________________________________________\n",
      "block3_pool (MaxPooling2D)   (None, 28, 28, 256)       0         \n",
      "_________________________________________________________________\n",
      "block4_conv1 (Conv2D)        (None, 28, 28, 512)       1180160   \n",
      "_________________________________________________________________\n",
      "block4_conv2 (Conv2D)        (None, 28, 28, 512)       2359808   \n",
      "_________________________________________________________________\n",
      "block4_conv3 (Conv2D)        (None, 28, 28, 512)       2359808   \n",
      "_________________________________________________________________\n",
      "block4_pool (MaxPooling2D)   (None, 14, 14, 512)       0         \n",
      "_________________________________________________________________\n",
      "block5_conv1 (Conv2D)        (None, 14, 14, 512)       2359808   \n",
      "_________________________________________________________________\n",
      "block5_conv2 (Conv2D)        (None, 14, 14, 512)       2359808   \n",
      "_________________________________________________________________\n",
      "block5_conv3 (Conv2D)        (None, 14, 14, 512)       2359808   \n",
      "_________________________________________________________________\n",
      "block5_pool (MaxPooling2D)   (None, 7, 7, 512)         0         \n",
      "_________________________________________________________________\n",
      "flatten_4 (Flatten)          (None, 25088)             0         \n",
      "_________________________________________________________________\n",
      "fc1 (Dense)                  (None, 128)               3211392   \n",
      "_________________________________________________________________\n",
      "fc2 (Dense)                  (None, 64)                8256      \n",
      "_________________________________________________________________\n",
      "dropout_4 (Dropout)          (None, 64)                0         \n",
      "_________________________________________________________________\n",
      "dense_4 (Dense)              (None, 5)                 325       \n",
      "=================================================================\n",
      "Total params: 17,934,661\n",
      "Trainable params: 3,219,973\n",
      "Non-trainable params: 14,714,688\n",
      "_________________________________________________________________\n"
     ]
    }
   ],
   "source": [
    "my_model.summary()"
   ]
  },
  {
   "cell_type": "code",
   "execution_count": 32,
   "metadata": {},
   "outputs": [],
   "source": [
    "# I extract features from my second to last layer fc1 which has 128 neurons. \n",
    "#This performed better for the recommender  vis-a-vis using fc2 with 64 neurons\n",
    "# set the following\n",
    "layer_to_extract = 'fc1'\n",
    "neurons = 128"
   ]
  },
  {
   "cell_type": "code",
   "execution_count": 33,
   "metadata": {},
   "outputs": [],
   "source": [
    "my_model_extract = Model(inputs=my_model.input, outputs=my_model.get_layer(layer_to_extract).output)"
   ]
  },
  {
   "cell_type": "markdown",
   "metadata": {},
   "source": [
    "### 5. LOAD NLP RECOMMENDER DATA"
   ]
  },
  {
   "cell_type": "code",
   "execution_count": 39,
   "metadata": {
    "scrolled": true
   },
   "outputs": [
    {
     "name": "stdout",
     "output_type": "stream",
     "text": [
      "(35965, 11)\n"
     ]
    },
    {
     "data": {
      "text/html": [
       "<div>\n",
       "<style scoped>\n",
       "    .dataframe tbody tr th:only-of-type {\n",
       "        vertical-align: middle;\n",
       "    }\n",
       "\n",
       "    .dataframe tbody tr th {\n",
       "        vertical-align: top;\n",
       "    }\n",
       "\n",
       "    .dataframe thead th {\n",
       "        text-align: right;\n",
       "    }\n",
       "</style>\n",
       "<table border=\"1\" class=\"dataframe\">\n",
       "  <thead>\n",
       "    <tr style=\"text-align: right;\">\n",
       "      <th></th>\n",
       "      <th>image_link</th>\n",
       "      <th>product_name</th>\n",
       "      <th>page_link</th>\n",
       "      <th>label</th>\n",
       "      <th>topic_1</th>\n",
       "      <th>topic_2</th>\n",
       "      <th>topic_3</th>\n",
       "      <th>topic_4</th>\n",
       "      <th>topic_5</th>\n",
       "      <th>topic_6</th>\n",
       "      <th>topic_7</th>\n",
       "    </tr>\n",
       "  </thead>\n",
       "  <tbody>\n",
       "    <tr>\n",
       "      <th>0</th>\n",
       "      <td>https://ak1.ostkcdn.com/images/products/139907...</td>\n",
       "      <td>Carson Carrington Brandbu Mid-century Fold Dow...</td>\n",
       "      <td>https://www.overstock.com/Home-Garden/Carson-C...</td>\n",
       "      <td>sofa</td>\n",
       "      <td>-0.755367</td>\n",
       "      <td>-1.001257</td>\n",
       "      <td>-5.526652</td>\n",
       "      <td>-5.526095</td>\n",
       "      <td>-1.918496</td>\n",
       "      <td>-5.526696</td>\n",
       "      <td>-5.527224</td>\n",
       "    </tr>\n",
       "    <tr>\n",
       "      <th>1</th>\n",
       "      <td>https://ak1.ostkcdn.com/images/products/139907...</td>\n",
       "      <td>Carson Carrington Brandbu Mid-century Fold Dow...</td>\n",
       "      <td>https://www.overstock.com/Home-Garden/Carson-C...</td>\n",
       "      <td>sofa</td>\n",
       "      <td>-0.755367</td>\n",
       "      <td>-1.001257</td>\n",
       "      <td>-5.526652</td>\n",
       "      <td>-5.526095</td>\n",
       "      <td>-1.918496</td>\n",
       "      <td>-5.526696</td>\n",
       "      <td>-5.527224</td>\n",
       "    </tr>\n",
       "  </tbody>\n",
       "</table>\n",
       "</div>"
      ],
      "text/plain": [
       "                                          image_link  \\\n",
       "0  https://ak1.ostkcdn.com/images/products/139907...   \n",
       "1  https://ak1.ostkcdn.com/images/products/139907...   \n",
       "\n",
       "                                        product_name  \\\n",
       "0  Carson Carrington Brandbu Mid-century Fold Dow...   \n",
       "1  Carson Carrington Brandbu Mid-century Fold Dow...   \n",
       "\n",
       "                                           page_link label   topic_1  \\\n",
       "0  https://www.overstock.com/Home-Garden/Carson-C...  sofa -0.755367   \n",
       "1  https://www.overstock.com/Home-Garden/Carson-C...  sofa -0.755367   \n",
       "\n",
       "    topic_2   topic_3   topic_4   topic_5   topic_6   topic_7  \n",
       "0 -1.001257 -5.526652 -5.526095 -1.918496 -5.526696 -5.527224  \n",
       "1 -1.001257 -5.526652 -5.526095 -1.918496 -5.526696 -5.527224  "
      ]
     },
     "execution_count": 39,
     "metadata": {},
     "output_type": "execute_result"
    }
   ],
   "source": [
    "nlp_data = pd.read_csv('../data/model/nlp_matrix.csv')\n",
    "nlp_data = nlp_data.drop(columns = 'Unnamed: 0')\n",
    "print(nlp_data.shape)\n",
    "nlp_data.head(2)"
   ]
  },
  {
   "cell_type": "code",
   "execution_count": 40,
   "metadata": {},
   "outputs": [],
   "source": [
    "# load nlp pipe line"
   ]
  },
  {
   "cell_type": "code",
   "execution_count": 41,
   "metadata": {},
   "outputs": [],
   "source": [
    "from nltk import SnowballStemmer\n",
    "from nltk.stem import WordNetLemmatizer\n",
    "\n",
    "n_gram = 3\n",
    "stem_type = 'snow' #change this to 'snow' or 'lemma' or 'porter'\n",
    "snow = SnowballStemmer('english') # change stemmer here\n",
    "wordnet_lemmatizer = WordNetLemmatizer()\n",
    "vectorizer = dill.load(open('../data/model/nlp_tf_vectorizer', 'rb'))\n",
    "lda_model = dill.load(open('../data/model/nlp_lda','rb'))"
   ]
  },
  {
   "cell_type": "code",
   "execution_count": 42,
   "metadata": {},
   "outputs": [],
   "source": [
    "#text= 'glass metal modern silver steel coffee table'\n",
    "text= 'rustic wood wooden distressed pine oak reclaimed coffee table natural'\n",
    "#text ='leather armchair sofa dark deep color contemporary comfortable'\n",
    "#text ='leather armchair sofa dark deep contemporary'\n",
    "#text ='blue sofa linen cloth fabric modern'\n",
    "#text = 'tv entertainment brown wood console'\n",
    "#text ='orange bright pouf cube soft square round ottoman cicle'\n",
    "#text ='Relax with a favorite book in this exquisite accent chair. Featuring birchwood legs and an elegantly pleated exterior, this chair offers superior comfort with high-density foam padding.'\n",
    "#text =\"\""
   ]
  },
  {
   "cell_type": "code",
   "execution_count": 43,
   "metadata": {},
   "outputs": [],
   "source": [
    "if(text!=\"\" ):\n",
    "    user_text = pd.DataFrame(columns=['excerpt'])\n",
    "    user_text=user_text.append(pd.DataFrame([text], columns=['excerpt']),ignore_index=True)\n",
    "    #print(user_text)\n",
    "    vector = vectorizer.transform(user_text['excerpt'])\n",
    "    #print(\"----\",vector,\"----\")\n",
    "    topic_vector = lda_model.transform(vector)\n",
    "    #print(topic_vector)\n",
    "    user_excerpt = pd.DataFrame(topic_vector, columns=['topic_'+ str(i)for i in range(1,8)])"
   ]
  },
  {
   "cell_type": "code",
   "execution_count": 44,
   "metadata": {},
   "outputs": [
    {
     "data": {
      "text/html": [
       "<div>\n",
       "<style scoped>\n",
       "    .dataframe tbody tr th:only-of-type {\n",
       "        vertical-align: middle;\n",
       "    }\n",
       "\n",
       "    .dataframe tbody tr th {\n",
       "        vertical-align: top;\n",
       "    }\n",
       "\n",
       "    .dataframe thead th {\n",
       "        text-align: right;\n",
       "    }\n",
       "</style>\n",
       "<table border=\"1\" class=\"dataframe\">\n",
       "  <thead>\n",
       "    <tr style=\"text-align: right;\">\n",
       "      <th></th>\n",
       "      <th>topic_1</th>\n",
       "      <th>topic_2</th>\n",
       "      <th>topic_3</th>\n",
       "      <th>topic_4</th>\n",
       "      <th>topic_5</th>\n",
       "      <th>topic_6</th>\n",
       "      <th>topic_7</th>\n",
       "    </tr>\n",
       "  </thead>\n",
       "  <tbody>\n",
       "    <tr>\n",
       "      <th>0</th>\n",
       "      <td>0.017884</td>\n",
       "      <td>0.017866</td>\n",
       "      <td>0.01789</td>\n",
       "      <td>0.892703</td>\n",
       "      <td>0.017877</td>\n",
       "      <td>0.017872</td>\n",
       "      <td>0.017909</td>\n",
       "    </tr>\n",
       "  </tbody>\n",
       "</table>\n",
       "</div>"
      ],
      "text/plain": [
       "    topic_1   topic_2  topic_3   topic_4   topic_5   topic_6   topic_7\n",
       "0  0.017884  0.017866  0.01789  0.892703  0.017877  0.017872  0.017909"
      ]
     },
     "execution_count": 44,
     "metadata": {},
     "output_type": "execute_result"
    }
   ],
   "source": [
    "user_excerpt"
   ]
  },
  {
   "cell_type": "code",
   "execution_count": 45,
   "metadata": {},
   "outputs": [
    {
     "data": {
      "text/html": [
       "<div>\n",
       "<style scoped>\n",
       "    .dataframe tbody tr th:only-of-type {\n",
       "        vertical-align: middle;\n",
       "    }\n",
       "\n",
       "    .dataframe tbody tr th {\n",
       "        vertical-align: top;\n",
       "    }\n",
       "\n",
       "    .dataframe thead th {\n",
       "        text-align: right;\n",
       "    }\n",
       "</style>\n",
       "<table border=\"1\" class=\"dataframe\">\n",
       "  <thead>\n",
       "    <tr style=\"text-align: right;\">\n",
       "      <th></th>\n",
       "      <th>topic_1</th>\n",
       "      <th>topic_2</th>\n",
       "      <th>topic_3</th>\n",
       "      <th>topic_4</th>\n",
       "      <th>topic_5</th>\n",
       "      <th>topic_6</th>\n",
       "      <th>topic_7</th>\n",
       "    </tr>\n",
       "  </thead>\n",
       "  <tbody>\n",
       "    <tr>\n",
       "      <th>0</th>\n",
       "      <td>-4.023866</td>\n",
       "      <td>-4.024874</td>\n",
       "      <td>-4.023538</td>\n",
       "      <td>-0.113501</td>\n",
       "      <td>-4.024254</td>\n",
       "      <td>-4.024509</td>\n",
       "      <td>-4.022468</td>\n",
       "    </tr>\n",
       "  </tbody>\n",
       "</table>\n",
       "</div>"
      ],
      "text/plain": [
       "    topic_1   topic_2   topic_3   topic_4   topic_5   topic_6   topic_7\n",
       "0 -4.023866 -4.024874 -4.023538 -0.113501 -4.024254 -4.024509 -4.022468"
      ]
     },
     "execution_count": 45,
     "metadata": {},
     "output_type": "execute_result"
    }
   ],
   "source": [
    "user_excerpt=user_excerpt.apply(np.log)\n",
    "user_excerpt"
   ]
  },
  {
   "cell_type": "markdown",
   "metadata": {},
   "source": [
    "### 6. SIMILARITY FINDER IMAGE"
   ]
  },
  {
   "cell_type": "code",
   "execution_count": 46,
   "metadata": {},
   "outputs": [
    {
     "data": {
      "image/jpeg": "[encoded data removed]",
      "text/plain": [
       "<IPython.core.display.Image object>"
      ]
     },
     "metadata": {
      "image/jpeg": {
       "height": 300,
       "width": 300
      }
     },
     "output_type": "display_data"
    }
   ],
   "source": [
    "pic_link = '../data/samples/crate_barrel/crate_coffee_cirwood1.jpeg'\n",
    "display(Image(filename=pic_link,width=300, height=300))"
   ]
  },
  {
   "cell_type": "code",
   "execution_count": 47,
   "metadata": {},
   "outputs": [
    {
     "name": "stderr",
     "output_type": "stream",
     "text": [
      "/home/ubuntu/anaconda3/lib/python3.6/site-packages/skimage/transform/_warps.py:84: UserWarning: The default mode, 'constant', will be changed to 'reflect' in skimage 0.15.\n",
      "  warn(\"The default mode, 'constant', will be changed to 'reflect' in \"\n"
     ]
    },
    {
     "data": {
      "text/plain": [
       "(1, 224, 224, 3)"
      ]
     },
     "execution_count": 47,
     "metadata": {},
     "output_type": "execute_result"
    }
   ],
   "source": [
    "# matrices the input image\n",
    "user_img_matrix=get_input(pic_link)\n",
    "user_img_matrix = np.expand_dims(user_img_matrix, axis=0)\n",
    "user_img_matrix.shape"
   ]
  },
  {
   "cell_type": "code",
   "execution_count": 48,
   "metadata": {},
   "outputs": [
    {
     "name": "stdout",
     "output_type": "stream",
     "text": [
      "(1, 128)\n",
      "(35965, 128)\n"
     ]
    }
   ],
   "source": [
    "user_data = my_model_extract.predict(user_img_matrix)\n",
    "search_in = np.array(df_image.loc[:,'ifeature1':]) \n",
    "print(user_data.shape)\n",
    "print(search_in.shape)"
   ]
  },
  {
   "cell_type": "code",
   "execution_count": 49,
   "metadata": {},
   "outputs": [],
   "source": [
    "# similarity metrics"
   ]
  },
  {
   "cell_type": "code",
   "execution_count": 52,
   "metadata": {},
   "outputs": [
    {
     "data": {
      "text/html": [
       "<div>\n",
       "<style scoped>\n",
       "    .dataframe tbody tr th:only-of-type {\n",
       "        vertical-align: middle;\n",
       "    }\n",
       "\n",
       "    .dataframe tbody tr th {\n",
       "        vertical-align: top;\n",
       "    }\n",
       "\n",
       "    .dataframe thead th {\n",
       "        text-align: right;\n",
       "    }\n",
       "</style>\n",
       "<table border=\"1\" class=\"dataframe\">\n",
       "  <thead>\n",
       "    <tr style=\"text-align: right;\">\n",
       "      <th></th>\n",
       "      <th>0</th>\n",
       "    </tr>\n",
       "  </thead>\n",
       "  <tbody>\n",
       "    <tr>\n",
       "      <th>24993</th>\n",
       "      <td>321.049586</td>\n",
       "    </tr>\n",
       "    <tr>\n",
       "      <th>27438</th>\n",
       "      <td>340.146330</td>\n",
       "    </tr>\n",
       "    <tr>\n",
       "      <th>28865</th>\n",
       "      <td>363.759232</td>\n",
       "    </tr>\n",
       "    <tr>\n",
       "      <th>21042</th>\n",
       "      <td>369.118496</td>\n",
       "    </tr>\n",
       "    <tr>\n",
       "      <th>18407</th>\n",
       "      <td>369.501354</td>\n",
       "    </tr>\n",
       "    <tr>\n",
       "      <th>28678</th>\n",
       "      <td>371.631130</td>\n",
       "    </tr>\n",
       "    <tr>\n",
       "      <th>28855</th>\n",
       "      <td>384.138019</td>\n",
       "    </tr>\n",
       "    <tr>\n",
       "      <th>33597</th>\n",
       "      <td>395.593076</td>\n",
       "    </tr>\n",
       "    <tr>\n",
       "      <th>28857</th>\n",
       "      <td>415.785500</td>\n",
       "    </tr>\n",
       "    <tr>\n",
       "      <th>23924</th>\n",
       "      <td>415.849228</td>\n",
       "    </tr>\n",
       "    <tr>\n",
       "      <th>22233</th>\n",
       "      <td>417.371666</td>\n",
       "    </tr>\n",
       "    <tr>\n",
       "      <th>17335</th>\n",
       "      <td>420.785248</td>\n",
       "    </tr>\n",
       "    <tr>\n",
       "      <th>34083</th>\n",
       "      <td>428.411979</td>\n",
       "    </tr>\n",
       "    <tr>\n",
       "      <th>28858</th>\n",
       "      <td>431.002933</td>\n",
       "    </tr>\n",
       "    <tr>\n",
       "      <th>28697</th>\n",
       "      <td>433.565439</td>\n",
       "    </tr>\n",
       "  </tbody>\n",
       "</table>\n",
       "</div>"
      ],
      "text/plain": [
       "                0\n",
       "24993  321.049586\n",
       "27438  340.146330\n",
       "28865  363.759232\n",
       "21042  369.118496\n",
       "18407  369.501354\n",
       "28678  371.631130\n",
       "28855  384.138019\n",
       "33597  395.593076\n",
       "28857  415.785500\n",
       "23924  415.849228\n",
       "22233  417.371666\n",
       "17335  420.785248\n",
       "34083  428.411979\n",
       "28858  431.002933\n",
       "28697  433.565439"
      ]
     },
     "execution_count": 52,
     "metadata": {},
     "output_type": "execute_result"
    }
   ],
   "source": [
    "metric = 'euclid'\n",
    "if(metric == 'euclid'):\n",
    "    from sklearn.metrics.pairwise import euclidean_distances\n",
    "    results= euclidean_distances(search_in, user_data)\n",
    "    show_me_image = pd.DataFrame(results).sort_values(0, ascending=True).head(15)\n",
    "\n",
    "if(metric == 'cosine'):    \n",
    "    from sklearn.metrics.pairwise import cosine_similarity\n",
    "    results = cosine_similarity(search_in, user_data)\n",
    "    show_me_image = pd.DataFrame(results).sort_values(0, ascending=False).head(15)\n",
    "    \n",
    "if(metric == 'manhat'):    \n",
    "    from sklearn.metrics.pairwise import manhattan_distances\n",
    "    results = manhattan_distances(search_in, user_data)\n",
    "    show_me_image = pd.DataFrame(results).sort_values(0, ascending=True).head(15)\n",
    "\n",
    "show_me_image"
   ]
  },
  {
   "cell_type": "code",
   "execution_count": 53,
   "metadata": {},
   "outputs": [
    {
     "data": {
      "text/plain": [
       "(15, 5)"
      ]
     },
     "execution_count": 53,
     "metadata": {},
     "output_type": "execute_result"
    }
   ],
   "source": [
    "recommend_image = df_image.iloc[list(show_me_image.index),0:5].values\n",
    "recommend_image.shape"
   ]
  },
  {
   "cell_type": "code",
   "execution_count": 54,
   "metadata": {},
   "outputs": [
    {
     "data": {
      "text/html": [
       "<img src=\"https://ak1.ostkcdn.com/images/products/23621916/Emira-Reclaimed-Fir-Coffee-Table-84fa67f2-2765-448b-8d23-62023ea3c0ad_600.jpg\" width=\"244\" height=\"244\"/>"
      ],
      "text/plain": [
       "<IPython.core.display.Image object>"
      ]
     },
     "metadata": {},
     "output_type": "display_data"
    },
    {
     "name": "stdout",
     "output_type": "stream",
     "text": [
      "Link to page = https://www.overstock.com/Home-Garden/Emira-Reclaimed-Fir-Coffee-Table/23621916/product.html?refccid=22K53MB3ICX25SKEUTDG2I5HOA&searchidx=2041\n"
     ]
    },
    {
     "data": {
      "text/html": [
       "<img src=\"https://ak1.ostkcdn.com/images/products/23445737/TOR-C-Stool-c7fcaca9-6201-4ecf-a99d-b2ddf9a5ec2b_600.jpg\" width=\"244\" height=\"244\"/>"
      ],
      "text/plain": [
       "<IPython.core.display.Image object>"
      ]
     },
     "metadata": {},
     "output_type": "display_data"
    },
    {
     "name": "stdout",
     "output_type": "stream",
     "text": [
      "Link to page = https://www.overstock.com/Home-Garden/TOR-C-Stool/23445737/product.html?refccid=EVQKEF5VT35LVYSM56MCKM5XBM&searchidx=2947\n"
     ]
    },
    {
     "data": {
      "text/html": [
       "<img src=\"https://ak1.ostkcdn.com/images/products/10423220/Handmade-Natural-Walnut-Oil-High-Brown-Cube-Thailand-9fa63d4e-29ac-4b33-b8df-6852078f4bcb_600.jpg\" width=\"244\" height=\"244\"/>"
      ],
      "text/plain": [
       "<IPython.core.display.Image object>"
      ]
     },
     "metadata": {},
     "output_type": "display_data"
    },
    {
     "name": "stdout",
     "output_type": "stream",
     "text": [
      "Link to page = https://www.overstock.com/Home-Garden/Handmade-Natural-Walnut-Oil-High-Brown-Cube-Thailand/10423220/product.html?refccid=Y5H56QT756U243SOHAZE4IED5Y&searchidx=3510\n"
     ]
    },
    {
     "data": {
      "text/html": [
       "<img src=\"https://ak1.ostkcdn.com/images/products/18550364/Best-Quality-Furniture-Mirrored-Crystal-2-Piece-Coffee-and-End-Table-Set-3ae6bd29-568b-4577-8364-375f3a22cbed_600.jpg\" width=\"244\" height=\"244\"/>"
      ],
      "text/plain": [
       "<IPython.core.display.Image object>"
      ]
     },
     "metadata": {},
     "output_type": "display_data"
    },
    {
     "name": "stdout",
     "output_type": "stream",
     "text": [
      "Link to page = https://www.overstock.com/Home-Garden/Best-Quality-Furniture-Mirrored-Crystal-2-Piece-Coffee-and-End-Table-Set/18550364/product.html?refccid=AAW6XMTZCLVKD32FLG3TAYMYQE&searchidx=903\n"
     ]
    },
    {
     "data": {
      "text/html": [
       "<img src=\"https://ak1.ostkcdn.com/images/products/13083782/East-At-Mains-Cummings-Blue-Coconut-Shell-Inlay-Round-Coffee-Table-59381bc6-18a9-4e55-a457-14e81ffe8846_600.jpg\" width=\"244\" height=\"244\"/>"
      ],
      "text/plain": [
       "<IPython.core.display.Image object>"
      ]
     },
     "metadata": {},
     "output_type": "display_data"
    },
    {
     "name": "stdout",
     "output_type": "stream",
     "text": [
      "Link to page = https://www.overstock.com/Home-Garden/East-At-Mains-Cummings-Blue-Coconut-Shell-Inlay-Round-Coffee-Table/13083782/product.html?refccid=OXKPCUIC5ETLVBCGGCVMDUXKQ4&searchidx=298\n"
     ]
    },
    {
     "data": {
      "text/html": [
       "<img src=\"https://ak1.ostkcdn.com/images/products/14585182/Safavieh-Tilly-Antique-Brass-Coffee-Table-f7bfbf39-6bb1-431f-a9e5-97d7576c79f3_600.jpg\" width=\"244\" height=\"244\"/>"
      ],
      "text/plain": [
       "<IPython.core.display.Image object>"
      ]
     },
     "metadata": {},
     "output_type": "display_data"
    },
    {
     "name": "stdout",
     "output_type": "stream",
     "text": [
      "Link to page = https://www.overstock.com/Home-Garden/Safavieh-Tilly-Antique-Brass-Coffee-Table/14585182/product.html?refccid=RYVINZ3WCBLJH22KSNC4PHDNTM&searchidx=3448\n"
     ]
    },
    {
     "data": {
      "text/html": [
       "<img src=\"https://ak1.ostkcdn.com/images/products/11991352/Handmade-Haussmann-Agate-Grey-Oil-18-Inch-Cube-Coffee-Table-Thailand-e064e573-0d19-481b-9d2f-1d57d216fbf9_600.jpg\" width=\"244\" height=\"244\"/>"
      ],
      "text/plain": [
       "<IPython.core.display.Image object>"
      ]
     },
     "metadata": {},
     "output_type": "display_data"
    },
    {
     "name": "stdout",
     "output_type": "stream",
     "text": [
      "Link to page = https://www.overstock.com/Home-Garden/Handmade-Haussmann-Agate-Grey-Oil-18-Inch-Cube-Coffee-Table-Thailand/11991352/product.html?refccid=Y5H56QT756U243SOHAZE4IED5Y&searchidx=3508\n"
     ]
    },
    {
     "data": {
      "text/html": [
       "<img src=\"https://ak1.ostkcdn.com/images/products/22162860/Seville-Classics-Faux-Leather-Quilted-Foldable-Storage-Ottoman-White-a5926ea6-317d-4581-b21e-2c7c72d98b64_600.jpg\" width=\"244\" height=\"244\"/>"
      ],
      "text/plain": [
       "<IPython.core.display.Image object>"
      ]
     },
     "metadata": {},
     "output_type": "display_data"
    },
    {
     "name": "stdout",
     "output_type": "stream",
     "text": [
      "Link to page = https://www.overstock.com/Home-Garden/Seville-Classics-Faux-Leather-Quilted-Foldable-Storage-Ottoman-White/22162860/product.html?refccid=UDMZAR3LVGLLMOSJLTNG6Q2LBE&searchidx=177\n"
     ]
    },
    {
     "data": {
      "text/html": [
       "<img src=\"https://ak1.ostkcdn.com/images/products/11991352/Handmade-Haussmann-Agate-Grey-Oil-18-Inch-Cube-Coffee-Table-Thailand-2363cb05-24bf-4284-b785-9a0872d306c7_600.jpg\" width=\"244\" height=\"244\"/>"
      ],
      "text/plain": [
       "<IPython.core.display.Image object>"
      ]
     },
     "metadata": {},
     "output_type": "display_data"
    },
    {
     "name": "stdout",
     "output_type": "stream",
     "text": [
      "Link to page = https://www.overstock.com/Home-Garden/Handmade-Haussmann-Agate-Grey-Oil-18-Inch-Cube-Coffee-Table-Thailand/11991352/product.html?refccid=Y5H56QT756U243SOHAZE4IED5Y&searchidx=3508\n"
     ]
    },
    {
     "data": {
      "text/html": [
       "<img src=\"https://ak1.ostkcdn.com/images/products/12044714/Hip-Vintage-Culver-Coffee-Table-ecf19305-7601-4385-a22d-790e9b81b708_600.jpg\" width=\"244\" height=\"244\"/>"
      ],
      "text/plain": [
       "<IPython.core.display.Image object>"
      ]
     },
     "metadata": {},
     "output_type": "display_data"
    },
    {
     "name": "stdout",
     "output_type": "stream",
     "text": [
      "Link to page = https://www.overstock.com/Home-Garden/Wood-Rock-Coffee-Table/12044714/product.html?refccid=35JZL3DLPAMJ6I2GI46WWO4GX4&searchidx=1710\n"
     ]
    },
    {
     "data": {
      "text/html": [
       "<img src=\"https://ak1.ostkcdn.com/images/products/21030592/Renwil-Cooper-Coffee-Table-d5640db6-1a5a-46be-8ca3-f394d60a2107_600.jpg\" width=\"244\" height=\"244\"/>"
      ],
      "text/plain": [
       "<IPython.core.display.Image object>"
      ]
     },
     "metadata": {},
     "output_type": "display_data"
    },
    {
     "name": "stdout",
     "output_type": "stream",
     "text": [
      "Link to page = https://www.overstock.com/Home-Garden/Renwil-Cooper-Coffee-Table/21030592/product.html?refccid=OBMVEVQV6WWKXBCFGAE4GHI3BQ&searchidx=1235\n"
     ]
    },
    {
     "data": {
      "text/html": [
       "<img src=\"https://ak1.ostkcdn.com/images/products/21507908/Pine-Canopy-Periwinkle-Rustic-Reclaimed-Pine-Round-Coffee-Table-with-Casters-09db479e-67a1-4d1e-8b79-06957300d48c_600.jpg\" width=\"244\" height=\"244\"/>"
      ],
      "text/plain": [
       "<IPython.core.display.Image object>"
      ]
     },
     "metadata": {},
     "output_type": "display_data"
    },
    {
     "name": "stdout",
     "output_type": "stream",
     "text": [
      "Link to page = https://www.overstock.com/Home-Garden/Pine-Canopy-Periwinkle-Rustic-Reclaimed-Pine-Round-Coffee-Table-with-Casters/21507908/product.html?refccid=FMRMZ33KZA62IVCNLETZJHE64E&searchidx=107\n"
     ]
    },
    {
     "data": {
      "text/html": [
       "<img src=\"https://ak1.ostkcdn.com/images/products/10544541/MJL-Furniture-Tami-Shakes-Square-Ikat-Storage-Ottoman-9776c928-2f25-41d5-986e-b29f980b9d53_600.jpg\" width=\"244\" height=\"244\"/>"
      ],
      "text/plain": [
       "<IPython.core.display.Image object>"
      ]
     },
     "metadata": {},
     "output_type": "display_data"
    },
    {
     "name": "stdout",
     "output_type": "stream",
     "text": [
      "Link to page = https://www.overstock.com/Home-Garden/MJL-Furniture-Tami-Shakes-Square-Ikat-Storage-Ottoman/10544541/product.html?refccid=5J3A7VFHNYXKXT2CF7AVALDO4Y&searchidx=322\n"
     ]
    },
    {
     "data": {
      "text/html": [
       "<img src=\"https://ak1.ostkcdn.com/images/products/11991352/Handmade-Haussmann-Agate-Grey-Oil-18-Inch-Cube-Coffee-Table-Thailand-d226992b-684e-4d6b-a8c0-65ef721aeca6_600.jpg\" width=\"244\" height=\"244\"/>"
      ],
      "text/plain": [
       "<IPython.core.display.Image object>"
      ]
     },
     "metadata": {},
     "output_type": "display_data"
    },
    {
     "name": "stdout",
     "output_type": "stream",
     "text": [
      "Link to page = https://www.overstock.com/Home-Garden/Handmade-Haussmann-Agate-Grey-Oil-18-Inch-Cube-Coffee-Table-Thailand/11991352/product.html?refccid=Y5H56QT756U243SOHAZE4IED5Y&searchidx=3508\n"
     ]
    },
    {
     "data": {
      "text/html": [
       "<img src=\"https://ak1.ostkcdn.com/images/products/12044719/Hip-Vintage-Clarkson-Coffee-Table-41bc93f5-eccd-49ee-81a0-cd6d26d69966_600.jpg\" width=\"244\" height=\"244\"/>"
      ],
      "text/plain": [
       "<IPython.core.display.Image object>"
      ]
     },
     "metadata": {},
     "output_type": "display_data"
    },
    {
     "name": "stdout",
     "output_type": "stream",
     "text": [
      "Link to page = https://www.overstock.com/Home-Garden/Charlene-Coffee-Table/12044719/product.html?refccid=RYVINZ3WCBLJH22KSNC4PHDNTM&searchidx=3455\n"
     ]
    }
   ],
   "source": [
    "# recommendation based only on image similarity\n",
    "\n",
    "for i in range(0,15):    \n",
    "    display(Image(url=recommend_image[i][0],width=244, height=244))\n",
    "    print('Link to page =',  recommend_image[i][2])"
   ]
  },
  {
   "cell_type": "markdown",
   "metadata": {},
   "source": [
    "### 7. FILTER USING NLP SIMILARITY\n",
    "take the top 15 images that are similar and sort them by text analysis similarity"
   ]
  },
  {
   "cell_type": "code",
   "execution_count": 31,
   "metadata": {},
   "outputs": [
    {
     "name": "stdout",
     "output_type": "stream",
     "text": [
      "# shape em up to numpy arrays\n",
      "        topic_1   topic_2   topic_3   topic_4   topic_5   topic_6   topic_7\n",
      "29674 -5.311178 -0.557523 -5.310134 -5.311153 -0.909632 -5.309765 -5.309352\n",
      "31525 -5.773231 -1.523806 -5.772914 -5.771928 -0.265845 -5.771342 -5.772778\n",
      "31499 -5.773231 -1.523806 -5.772914 -5.771928 -0.265845 -5.771342 -5.772778\n",
      "29558 -5.794822 -5.790939 -5.793942 -5.792723 -0.018463 -5.791472 -5.793839\n",
      "30115 -5.240702 -5.237059 -5.240858 -5.240480 -0.032320 -5.240343 -5.240306\n",
      "30288 -5.499911 -5.496193 -5.499196 -5.498681 -0.024871 -5.498293 -5.497139\n",
      "31588 -5.439790 -5.437965 -5.440119 -5.439129 -0.109759 -2.498185 -5.438782\n",
      "31060 -1.143092 -1.867888 -5.856321 -2.868460 -0.773636 -5.853319 -5.854267\n",
      "32234 -1.986901 -2.403408 -5.968720 -5.968073 -0.271496 -5.967830 -5.969183\n",
      "31681 -1.612662 -0.764942 -5.440163 -5.439295 -1.145940 -5.440209 -5.440346\n",
      "32060 -5.078255 -0.843143 -5.079169 -5.079966 -0.618957 -5.078723 -5.077613\n",
      "31061 -1.143092 -1.867888 -5.856321 -2.868460 -0.773636 -5.853319 -5.854267\n",
      "32239 -1.986901 -2.403408 -5.968720 -5.968073 -0.271496 -5.967830 -5.969183\n",
      "32017 -3.385704 -1.040725 -5.834450 -5.833156 -0.508759 -5.834102 -5.833976\n",
      "30784 -0.713425 -5.912301 -5.914867 -5.914415 -0.700110 -5.914262 -5.914404\n",
      "29433 -0.524014 -5.813806 -5.816011 -5.815128 -0.934069 -5.815417 -5.815515\n",
      "5893  -0.793685 -0.634193 -5.657025 -5.657789 -5.656008 -5.657653 -5.657606\n",
      "32012 -3.385704 -1.040725 -5.834450 -5.833156 -0.508759 -5.834102 -5.833976\n",
      "29738 -5.310287 -5.307711 -5.311753 -5.311027 -0.080683 -2.940954 -5.311388\n",
      "32527 -5.201742 -5.198513 -5.202645 -5.201337 -0.033617 -5.201450 -5.201699\n",
      "31587 -5.439790 -5.437965 -5.440119 -5.439129 -0.109759 -2.498185 -5.438782\n",
      "31698 -5.607642 -5.604755 -5.604866 -5.605061 -0.156888 -5.605410 -2.065043\n",
      "31489 -5.276772 -5.273183 -5.276162 -5.276174 -0.031159 -5.276327 -5.277132\n",
      "29528 -4.510309 -4.505900 -4.507828 -1.675556 -0.277466 -4.507634 -4.509042\n",
      "29761 -5.034849 -1.281095 -5.035616 -5.033748 -0.371469 -5.034259 -5.034134\n",
      "           0\n",
      "0   0.999120\n",
      "10  0.998177\n",
      "24  0.995559\n",
      "2   0.994274\n",
      "1   0.994274\n",
      "17  0.981017\n",
      "13  0.981017\n",
      "9   0.951072\n",
      "12  0.944245\n",
      "8   0.944245\n",
      "[29674, 32060, 29761, 31499, 31525, 32012, 32017, 31681, 32239, 32234]\n"
     ]
    }
   ],
   "source": [
    "if(text==\"\"): # no text was given\n",
    "    recommend_image = df_image.iloc[list(show_me_image.index),0:5].values\n",
    "else:\n",
    "    print('# shape em up to numpy arrays')\n",
    "    given_excerpt = np.array(user_excerpt)\n",
    "    print(nlp_data.iloc[list(show_me_image.index),4:])\n",
    "    search_in = np.array(nlp_data.iloc[list(show_me_image.index),4:])\n",
    "    from sklearn.metrics.pairwise import cosine_similarity\n",
    "    results2 = cosine_similarity(search_in, given_excerpt)\n",
    "    show_me_nlp = pd.DataFrame(results2).sort_values(0, ascending=False).head(10)\n",
    "    print(show_me_nlp)\n",
    "    final_list = list(show_me_image.iloc[list(show_me_nlp.index),:].index)\n",
    "    print(final_list)\n",
    "    recommend_image = df_image.iloc[final_list,0:10].values\n",
    "    "
   ]
  },
  {
   "cell_type": "code",
   "execution_count": 32,
   "metadata": {},
   "outputs": [
    {
     "data": {
      "text/html": [
       "<img src=\"https://ak1.ostkcdn.com/images/products/12853347/CorLiving-Kelsey-Bonded-Leather-Modern-Recliner-Armchair-876de00f-37e8-45cd-8abc-63d55faf33ec_600.jpg\" width=\"244\" height=\"244\"/>"
      ],
      "text/plain": [
       "<IPython.core.display.Image object>"
      ]
     },
     "metadata": {},
     "output_type": "display_data"
    },
    {
     "name": "stdout",
     "output_type": "stream",
     "text": [
      "Link to page = https://www.overstock.com/Home-Garden/CorLiving-Kelsey-Bonded-Leather-Modern-Recliner-Armchair/12853347/product.html?refccid=XXMJCI7TDDEKEGCG4U4NCDMJ5E&searchidx=57\n"
     ]
    },
    {
     "data": {
      "text/html": [
       "<img src=\"https://ak1.ostkcdn.com/images/products/13001004/ALEXANDRIA-ARMCHAIR-GIOTTO-GREY-FABRIC-6430a723-d2da-4367-ac83-fbed734effd1_600.jpg\" width=\"244\" height=\"244\"/>"
      ],
      "text/plain": [
       "<IPython.core.display.Image object>"
      ]
     },
     "metadata": {},
     "output_type": "display_data"
    },
    {
     "name": "stdout",
     "output_type": "stream",
     "text": [
      "Link to page = https://www.overstock.com/Home-Garden/ALEXANDRIA-ARMCHAIR-GIOTTO-GREY-FABRIC/13001004/product.html?refccid=VK4BJ2M5EJYICASCJP5H7Z6HEY&searchidx=459\n"
     ]
    },
    {
     "data": {
      "text/html": [
       "<img src=\"https://ak1.ostkcdn.com/images/products/10545285/Delta-Children-Epic-Upholstered-Glider-f5de3a50-d4c4-4531-82f6-d3caf41c32a9_600.jpg\" width=\"244\" height=\"244\"/>"
      ],
      "text/plain": [
       "<IPython.core.display.Image object>"
      ]
     },
     "metadata": {},
     "output_type": "display_data"
    },
    {
     "name": "stdout",
     "output_type": "stream",
     "text": [
      "Link to page = https://www.overstock.com/Home-Garden/Delta-Children-Epic-Upholstered-Glider/10545285/product.html?refccid=YXGQT5WU7OH3KY2KWKNOTIEXLU&searchidx=75\n"
     ]
    },
    {
     "data": {
      "text/html": [
       "<img src=\"https://ak1.ostkcdn.com/images/products/17668770/Classic-Linen-Armchair-Living-Room-Accent-Chair-56bb90f5-085a-44c3-a7fd-a4efbfe052e3_600.jpg\" width=\"244\" height=\"244\"/>"
      ],
      "text/plain": [
       "<IPython.core.display.Image object>"
      ]
     },
     "metadata": {},
     "output_type": "display_data"
    },
    {
     "name": "stdout",
     "output_type": "stream",
     "text": [
      "Link to page = https://www.overstock.com/Home-Garden/Classic-Linen-Armchair-Living-Room-Accent-Chair/17668770/product.html?refccid=O6YEU3LR5EHKNXSPCNT4IBT2GI&searchidx=343\n"
     ]
    },
    {
     "data": {
      "text/html": [
       "<img src=\"https://ak1.ostkcdn.com/images/products/17668770/Classic-Linen-Armchair-Living-Room-Accent-Chair-a8b7f884-0aee-493f-a614-1a2608bed5a4_600.jpg\" width=\"244\" height=\"244\"/>"
      ],
      "text/plain": [
       "<IPython.core.display.Image object>"
      ]
     },
     "metadata": {},
     "output_type": "display_data"
    },
    {
     "name": "stdout",
     "output_type": "stream",
     "text": [
      "Link to page = https://www.overstock.com/Home-Garden/Classic-Linen-Armchair-Living-Room-Accent-Chair/17668770/product.html?refccid=O6YEU3LR5EHKNXSPCNT4IBT2GI&searchidx=343\n"
     ]
    },
    {
     "data": {
      "text/html": [
       "<img src=\"https://ak1.ostkcdn.com/images/products/19569357/Aristocrat-Accent-Armchair-702694cf-9640-4066-b513-472cc078c230_600.jpg\" width=\"244\" height=\"244\"/>"
      ],
      "text/plain": [
       "<IPython.core.display.Image object>"
      ]
     },
     "metadata": {},
     "output_type": "display_data"
    },
    {
     "name": "stdout",
     "output_type": "stream",
     "text": [
      "Link to page = https://www.overstock.com/Home-Garden/Aristocrat-Accent-Armchair/19569357/product.html?refccid=VK4BJ2M5EJYICASCJP5H7Z6HEY&searchidx=444\n"
     ]
    },
    {
     "data": {
      "text/html": [
       "<img src=\"https://ak1.ostkcdn.com/images/products/19569357/Aristocrat-Accent-Armchair-dcd2606b-ae94-45bc-83c7-e08199f871be_600.jpg\" width=\"244\" height=\"244\"/>"
      ],
      "text/plain": [
       "<IPython.core.display.Image object>"
      ]
     },
     "metadata": {},
     "output_type": "display_data"
    },
    {
     "name": "stdout",
     "output_type": "stream",
     "text": [
      "Link to page = https://www.overstock.com/Home-Garden/Aristocrat-Accent-Armchair/19569357/product.html?refccid=VK4BJ2M5EJYICASCJP5H7Z6HEY&searchidx=444\n"
     ]
    },
    {
     "data": {
      "text/html": [
       "<img src=\"https://ak1.ostkcdn.com/images/products/20179954/Katalina-Chair-3519750d-6a43-4441-9c6f-fbd43b695b5f_600.jpg\" width=\"244\" height=\"244\"/>"
      ],
      "text/plain": [
       "<IPython.core.display.Image object>"
      ]
     },
     "metadata": {},
     "output_type": "display_data"
    },
    {
     "name": "stdout",
     "output_type": "stream",
     "text": [
      "Link to page = https://www.overstock.com/Home-Garden/Katalina-Chair/20179954/product.html?refccid=5JO5WDPKCAFLDESAWOZ2I4REU4&searchidx=368\n"
     ]
    },
    {
     "data": {
      "text/html": [
       "<img src=\"https://ak1.ostkcdn.com/images/products/17793383/Modern-Living-Room-Accent-Arm-Chair-in-Faux-Leather-c075eba8-bfe8-4b0d-829f-af2cefdb4ec9_600.jpg\" width=\"244\" height=\"244\"/>"
      ],
      "text/plain": [
       "<IPython.core.display.Image object>"
      ]
     },
     "metadata": {},
     "output_type": "display_data"
    },
    {
     "name": "stdout",
     "output_type": "stream",
     "text": [
      "Link to page = https://www.overstock.com/Home-Garden/Modern-Living-Room-Accent-Arm-Chair-in-Faux-Leather/17793383/product.html?refccid=IMMXQGKOCKUYERCKNXN3RMAC7U&searchidx=499\n"
     ]
    },
    {
     "data": {
      "text/html": [
       "<img src=\"https://ak1.ostkcdn.com/images/products/17793383/Modern-Living-Room-Accent-Arm-Chair-in-Faux-Leather-ac00cb89-54ed-4fc0-8aff-715795439bc5_600.jpg\" width=\"244\" height=\"244\"/>"
      ],
      "text/plain": [
       "<IPython.core.display.Image object>"
      ]
     },
     "metadata": {},
     "output_type": "display_data"
    },
    {
     "name": "stdout",
     "output_type": "stream",
     "text": [
      "Link to page = https://www.overstock.com/Home-Garden/Modern-Living-Room-Accent-Arm-Chair-in-Faux-Leather/17793383/product.html?refccid=IMMXQGKOCKUYERCKNXN3RMAC7U&searchidx=499\n"
     ]
    }
   ],
   "source": [
    "for i in range(0,10):    \n",
    "    display(Image(url=recommend_image[i][0],width=244, height=244))\n",
    "    print('Link to page =',  recommend_image[i][2])"
   ]
  },
  {
   "cell_type": "code",
   "execution_count": null,
   "metadata": {},
   "outputs": [],
   "source": []
  },
  {
   "cell_type": "code",
   "execution_count": null,
   "metadata": {},
   "outputs": [],
   "source": []
  },
  {
   "cell_type": "code",
   "execution_count": null,
   "metadata": {},
   "outputs": [],
   "source": []
  }
 ],
 "metadata": {
  "kernelspec": {
   "display_name": "Python 3",
   "language": "python",
   "name": "python3"
  },
  "language_info": {
   "codemirror_mode": {
    "name": "ipython",
    "version": 3
   },
   "file_extension": ".py",
   "mimetype": "text/x-python",
   "name": "python",
   "nbconvert_exporter": "python",
   "pygments_lexer": "ipython3",
   "version": "3.6.5"
  }
 },
 "nbformat": 4,
 "nbformat_minor": 2
}
