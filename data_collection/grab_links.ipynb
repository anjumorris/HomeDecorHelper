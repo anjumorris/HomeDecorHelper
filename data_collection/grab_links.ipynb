{
 "cells": [
  {
   "cell_type": "markdown",
   "metadata": {},
   "source": [
    "# Data Collection - PART 1\n",
    "## NOTEBOOK TO GRAB LINKS FROM OVERSTOCK.COM \n",
    "Overstock.com doesn't give links directly so we need to grab the individual links from each of the banners and cycle through them  "
   ]
  },
  {
   "cell_type": "code",
   "execution_count": 33,
   "metadata": {},
   "outputs": [],
   "source": [
    "from selenium import webdriver\n",
    "from selenium.webdriver.common.keys import Keys\n",
    "import time\n",
    "import math\n",
    "import os\n",
    "chromedriver = f\"{os.environ['HOME']}/.local/bin/chromedriver\" # path to the chromedriver executable\n",
    "os.environ[\"webdriver.chrome.driver\"] = chromedriver"
   ]
  },
  {
   "cell_type": "code",
   "execution_count": 34,
   "metadata": {},
   "outputs": [],
   "source": [
    "driver = webdriver.Chrome(chromedriver)\n",
    "driver.get(\"https://www.overstock.com/Home-Garden/Sofas-Couches/Sofa,/type,/2027/subcat.html?TID=SCLSP:00:LeftNav-2:SofasCouches\")\n",
    "time.sleep(2);"
   ]
  },
  {
   "cell_type": "markdown",
   "metadata": {},
   "source": [
    "### 1. READ THE TOTAL MATCHES\n",
    "Get the number of matches so that I know how many time to click the next button "
   ]
  },
  {
   "cell_type": "code",
   "execution_count": 35,
   "metadata": {},
   "outputs": [
    {
     "name": "stdout",
     "output_type": "stream",
     "text": [
      "2821\n",
      "48\n"
     ]
    }
   ],
   "source": [
    "per_page = 60 \n",
    "page_selector = '//span[@class=\"result-count\"]'\n",
    "matches=driver.find_element_by_xpath(page_selector).text.split()[2].replace(\",\",\"\")\n",
    "print(matches)\n",
    "n = math.ceil(int(matches)/per_page)\n",
    "print(n)"
   ]
  },
  {
   "cell_type": "markdown",
   "metadata": {},
   "source": [
    "### 2. GRAB LINKS PER PAGE\n",
    "Overstock displays 60 banners per page and we grab the links of all these banners at one time."
   ]
  },
  {
   "cell_type": "code",
   "execution_count": 36,
   "metadata": {},
   "outputs": [],
   "source": [
    "store =[]"
   ]
  },
  {
   "cell_type": "code",
   "execution_count": 37,
   "metadata": {},
   "outputs": [
    {
     "name": "stdout",
     "output_type": "stream",
     "text": [
      "------\n",
      "60\n",
      "https://www.overstock.com/Home-Garden/The-Curated-Nomad-Stadtmuller-Convertible-Sofa-with-Pullout-Bed/20254244/product.html?refccid=6YCE2DJ37ZWJL62OLCDFNVZGFU&searchidx=59\n",
      "------\n",
      "120\n",
      "https://www.overstock.com/Home-Garden/Hanny-Green-Velvet-Sofa/10425776/product.html?refccid=RIEY5POQKJCJQDKO5GMET7TCFA&searchidx=119\n",
      "------\n",
      "180\n",
      "https://www.overstock.com/Home-Garden/Off-white-Wool-Sofa/24174707/product.html?refccid=OKG53XBDDHCKSBCG3WXSDUYHIU&searchidx=179\n",
      "------\n",
      "240\n",
      "https://www.overstock.com/Home-Garden/Katrina-Contemporary-Nailhead-Microfiber-Emerald-Green-Sofa-by-Furniture-of-America/14229039/product.html?refccid=7DXMVPDJ3KD2IO2M7VMRRZDQFU&searchidx=239\n",
      "------\n",
      "300\n",
      "https://www.overstock.com/Home-Garden/Deer-Valley-Lodge-Sleeper-Sofa/9246687/product.html?refccid=LV2GSOA7IEUZPP2JNLHEL27YQM&searchidx=299\n",
      "------\n",
      "360\n",
      "https://www.overstock.com/Home-Garden/Palm-Canyon-Westwood-Split-Futon/20110199/product.html?refccid=F45LH74I5CJJ53KOKBLIUZUGFA&searchidx=359\n",
      "------\n",
      "420\n",
      "https://www.overstock.com/Home-Garden/Arno-Sea-Blue-Velvet-Sofa/18755066/product.html?refccid=VK7HGO4MBID2XNKI7TEULH66C4&searchidx=419\n",
      "------\n",
      "480\n",
      "https://www.overstock.com/Home-Garden/Brandon-Distressed-Whiskey-Premium-Top-Grain-Italian-Leather-Sofa/18045690/product.html?refccid=GDY7ALK4XGDYQO2GKWGHF73ZYA&searchidx=479\n",
      "------\n",
      "540\n",
      "https://www.overstock.com/Home-Garden/Best-Master-Furniture-Hampstead-Sofa/20664682/product.html?refccid=T7CUQZBAV7KLZCCMWWAPDKO3YM&searchidx=539\n",
      "------\n",
      "600\n",
      "https://www.overstock.com/Home-Garden/Adeco-Fabric-Fiber-Sofa-Bed-Sofa-Bed-Lounge-Living-Room-Seat/11206472/product.html?refccid=CBZP2BND3WI3FISHXXM7EOS2CM&searchidx=599\n",
      "------\n",
      "660\n",
      "https://www.overstock.com/Home-Garden/Armen-Living-Cambridge-Sofa-in-Stainless-Steel-and-Dark-Grey-Velvet/19448171/product.html?refccid=PE57EHWBSC4KCP2B6S2OB4TCOQ&searchidx=659\n",
      "------\n",
      "720\n",
      "https://www.overstock.com/Home-Garden/Leather-Futon-Sleeper-in-Espresso/5503604/product.html?refccid=F55OROO5ZOYZWCCB7UJASJKH6E&searchidx=719\n",
      "------\n",
      "780\n",
      "https://www.overstock.com/Home-Garden/Furniture-of-America-Morina-2-piece-Microfiber-Sofa-Sofabed-and-Chair-Set/5675920/product.html?refccid=ATAYE5H2CPFJV2CPQQOGWW4WAQ&searchidx=779\n",
      "------\n",
      "840\n",
      "https://www.overstock.com/Home-Garden/Elle-Decor-Amery-Tufted-Sofa/22748384/product.html?refccid=WT3RLPPNRYJLE5SOA4HX7WKJIM&searchidx=839\n",
      "------\n",
      "900\n",
      "https://www.overstock.com/Home-Garden/Xnron-Button-Tufted-Royal-Blue-Velvet-Sofa-Bed-Lounger-with-Nailhead-Trim/11088843/product.html?refccid=MR3LBYHBSYT3MECOAPOMGQILRE&searchidx=899\n",
      "------\n",
      "960\n",
      "https://www.overstock.com/Home-Garden/Handy-Living-Denver-Red-Velvet-Sofa/22612402/product.html?refccid=QTTIRS32BGGL372F3RBQTWS3ZY&searchidx=959\n",
      "------\n",
      "1020\n",
      "https://www.overstock.com/Home-Garden/Global-United-Industries-Watson-Luxury-Leather-Gel-Match-Upholstered-Living-Room-Sofa/18115408/product.html?refccid=LZNGZNFTGF5L5ZKNYNQJN3LHZA&searchidx=1019\n",
      "------\n",
      "1080\n",
      "https://www.overstock.com/Home-Garden/Abysen-Modern-Decorative-Black-Quilted-Design-Sofa-Bed-Lounger/11088841/product.html?refccid=FKOSOVLFMBEYUZSLNGIK3HGI7U&searchidx=1079\n",
      "------\n",
      "1140\n",
      "https://www.overstock.com/Home-Garden/Chic-Home-Berry-Velvet-Round-Acrylic-Feet-Sofa-Blue/14428138/product.html?refccid=3CBA7HSFBAPYHFSN5HI22OS77I&searchidx=1139\n",
      "------\n",
      "1200\n",
      "https://www.overstock.com/Home-Garden/American-Eagle-Contemporary-Style-Dark-Tan-Genuine-Leather-Sofa/16930879/product.html?refccid=K4W57OFBH33KRO2DBOZ7GYULEU&searchidx=1199\n",
      "------\n",
      "1260\n",
      "https://www.overstock.com/Home-Garden/American-Eagle-Contemporary-Black-Italian-Top-Grain-Leather-Sofa/16930849/product.html?refccid=G44SYZNGBJRJRE2JUV4AFXS4CM&searchidx=1259\n",
      "------\n",
      "1320\n",
      "https://www.overstock.com/Home-Garden/Safavieh-Couture-Oahu-Grey-Wash-Finish-Wicker-and-Cream-Cushion-2-seater-Sofa/22964985/product.html?refccid=KP6PRPMXK7KY4ZSBHNGHWBGZLI&searchidx=1319\n",
      "------\n",
      "1380\n",
      "https://www.overstock.com/Home-Garden/Lightning-Shadow-Lighted-Base-Power-Recliner-Sofa/20221393/product.html?refccid=2WDQHRTJFOUZL72M6UKQYBH5KU&searchidx=1379\n",
      "------\n",
      "1440\n",
      "https://www.overstock.com/Home-Garden/Tilly-Grey-Fabric-Sofa/21869553/product.html?refccid=USIUBDKX7ZCIXDCISKI5WBBWIE&searchidx=1439\n",
      "------\n",
      "1500\n",
      "https://www.overstock.com/Home-Garden/Fortress-Sofa/10109458/product.html?refccid=HRZWM55SPUYJSMKN3OAQXC4PB4&searchidx=1499\n",
      "------\n",
      "1560\n",
      "https://www.overstock.com/Home-Garden/Lancaster-Tufted-Eco-Friendly-Sofa/14587655/product.html?refccid=RP7VH7QPGS7ITC2NPQVDQIAM7Q&searchidx=1559\n",
      "------\n",
      "1620\n",
      "https://www.overstock.com/Home-Garden/Tuscany-Sofa-Dk.-Forest-Walnut/23131221/product.html?refccid=7NXFEITOMFQIWFCFI332OE5R7U&searchidx=1619\n",
      "------\n",
      "1680\n",
      "https://www.overstock.com/Home-Garden/Classic-Bonded-Leather-Living-Room-Sofa-with-White-Stitch-Accent/12025988/product.html?refccid=JHSJLV6YSDZYSGCP4RYRHBV444&searchidx=1679\n",
      "------\n",
      "1740\n",
      "https://www.overstock.com/Home-Garden/Simmons-Upholstery-Killington-Graphite-Sofa/22635237/product.html?refccid=XJKN5RAPVYDKIT2AVK6K3JTUEE&searchidx=1739\n",
      "------\n",
      "1800\n",
      "https://www.overstock.com/Home-Garden/Benchcraft-Braxlin-Charcoal-Chaise-Sofa/21022694/product.html?refccid=4SQKPVPWOJTKSX2CVT5UMTJVOI&searchidx=1799\n",
      "------\n",
      "1860\n",
      "https://www.overstock.com/Home-Garden/Sawyer-Transitional-Brown-Motion-Sofa/22047305/product.html?refccid=YF2266H2WURIXWKNVMCBNAGCW4&searchidx=1859\n",
      "------\n",
      "1920\n",
      "https://www.overstock.com/Home-Garden/1180-Longboard-Blue-Fabric-Wood-Sofa/25429754/product.html?refccid=5IBNLUGMFVWYNNSESZERS5UJCU&searchidx=1919\n",
      "------\n",
      "1980\n",
      "https://www.overstock.com/Home-Garden/Southern-Motions-Grand-Slam-Blue-Microfiber-Reclining-Sofa/23387116/product.html?refccid=BML5TNWWPMEIY6KAUU4CVTOYLM&searchidx=1979\n",
      "------\n",
      "2040\n",
      "https://www.overstock.com/Home-Garden/Royal-Mid-Century-Living-Room-Sofa-with-Tufted-Design-and-Nailhead-Trim/13255151/product.html?refccid=X72M2OFMWBMJLDSOQD7BI6PQNE&searchidx=2039\n",
      "------\n",
      "2100\n",
      "https://www.overstock.com/Home-Garden/Dillist-Mica-Grey-Upholstered-Sofa/25429554/product.html?refccid=3LSOL4BQL4VK7TCBERGMQ2J2UY&searchidx=2099\n",
      "------\n",
      "2160\n",
      "https://www.overstock.com/Home-Garden/Luxe-Mid-Century-Sofa-in-Champagne-Wood-Finish-and-Dark-Grey-Fabric/22816905/product.html?refccid=BAW2HJII25RKD7CCRGH6WWICOY&searchidx=2159\n",
      "------\n",
      "2220\n",
      "https://www.overstock.com/Home-Garden/LYKE-Home-Leather-Sofa/14565868/product.html?refccid=VAHUWTRHX6BKM4KA67BIQBNNYQ&searchidx=2219\n",
      "------\n",
      "2280\n",
      "https://www.overstock.com/Home-Garden/Faux-Leather-Armless-Adjustable-Sofa-With-A-Drop-Down-Console-Brown/20649619/product.html?refccid=HDLLJ32ZMDHIL22JSXLLP5JDM4&searchidx=2279\n",
      "------\n",
      "2340\n",
      "https://www.overstock.com/Home-Garden/Simmons-Upholstery-Mari-Java-Sofa/22635122/product.html?refccid=EYWIDF44KFU2CPSAB352N6EBP4&searchidx=2339\n",
      "------\n",
      "2400\n",
      "https://www.overstock.com/Home-Garden/Global-Furniture-Extra-Plush-Coffee-rec-Sofa-w-Drop-down-Table/18796027/product.html?refccid=EVBV726TBUQLVSCO7OKJZMXCA4&searchidx=2399\n",
      "------\n",
      "2460\n",
      "https://www.overstock.com/Home-Garden/Stylish-Wooden-Motion-Sofa-With-Drop-Down-Table-Brown/20976156/product.html?refccid=QEULSWTIE553NLSAWCSJ4ECTT4&searchidx=2459\n",
      "------\n",
      "2520\n",
      "https://www.overstock.com/Home-Garden/Dax-Sofa/21424282/product.html?refccid=RBUDHPZNG3EYK32DZF3JAUWLFU&searchidx=2519\n",
      "------\n",
      "2584\n",
      "https://ad.tagdelivery.com/click?id=66d3d3d7-d565-40c8-9b71-77c7419a226b&x=O4OjuxZitJNIeA3RY_fEFxDvbq_oASAxMoEHMmMYCF5mLXmMLPxSeHEwMgDgQUZnOsneRfToO3ZjiF6v-rfBT_4oKIcr2jJ317YTsMv3zDcvcJz5-9gVxKxDabR9pXQkBRyDrY2EklrzHGj_hHkAeZ2DlTOpnSlMIuno5UzULIcKAw8Vs1es_QDHTR4cxRPtCesZSMy5lM2-5yNQoZ7T089ZKjNdFWUU2d5gVw0Hs2QJowwGryzSv4U9_HcAUuG2lAPZ5Wxam6cs0qn79rTudg%3D%3D&redirect=https%3A%2F%2Fwww.overstock.com%2FHome-Garden%2FPorch-Den-Echo-Park-Quintero-Vinyl-Sofa%2F14255864%2Fproduct.html%3Frefccid%3DPX4PFQAJDYSZHICIPDNE4BRIQI%26searchidx%3D3\n",
      "------\n",
      "2648\n",
      "https://ad.tagdelivery.com/click?id=66d3d3d7-d565-40c8-9b71-77c7419a226b&x=O4OjuxZitJNIeA3RY_fEFxDvbq_oASAxMoEHMmMYCF5mLXmMLPxSeHEwMgDgQUZnOsneRfToO3ZjiF6v-rfBT_4oKIcr2jJ317YTsMv3zDcvcJz5-9gVxKxDabR9pXQkBRyDrY2EklrzHGj_hHkAeZ2DlTOpnSlMIuno5UzULIcKAw8Vs1es_QDHTR4cxRPtCesZSMy5lM2-5yNQoZ7T089ZKjNdFWUU2d5gVw0Hs2QJowwGryzSv4U9_HcAUuG2lAPZ5Wxam6cs0qn79rTudg%3D%3D&redirect=https%3A%2F%2Fwww.overstock.com%2FHome-Garden%2FPorch-Den-Echo-Park-Quintero-Vinyl-Sofa%2F14255864%2Fproduct.html%3Frefccid%3DPX4PFQAJDYSZHICIPDNE4BRIQI%26searchidx%3D3\n"
     ]
    },
    {
     "name": "stdout",
     "output_type": "stream",
     "text": [
      "------\n",
      "2712\n",
      "https://ad.tagdelivery.com/click?id=66d3d3d7-d565-40c8-9b71-77c7419a226b&x=O4OjuxZitJNIeA3RY_fEFxDvbq_oASAxMoEHMmMYCF5mLXmMLPxSeHEwMgDgQUZnOsneRfToO3ZjiF6v-rfBT_4oKIcr2jJ317YTsMv3zDcvcJz5-9gVxKxDabR9pXQkBRyDrY2EklrzHGj_hHkAeZ2DlTOpnSlMIuno5UzULIcKAw8Vs1es_QDHTR4cxRPtCesZSMy5lM2-5yNQoZ7T089ZKjNdFWUU2d5gVw0Hs2QJowwGryzSv4U9_HcAUuG2lAPZ5Wxam6cs0qn79rTudg%3D%3D&redirect=https%3A%2F%2Fwww.overstock.com%2FHome-Garden%2FPorch-Den-Echo-Park-Quintero-Vinyl-Sofa%2F14255864%2Fproduct.html%3Frefccid%3DPX4PFQAJDYSZHICIPDNE4BRIQI%26searchidx%3D3\n",
      "------\n",
      "2776\n",
      "https://ad.tagdelivery.com/click?id=66d3d3d7-d565-40c8-9b71-77c7419a226b&x=O4OjuxZitJNIeA3RY_fEFxDvbq_oASAxMoEHMmMYCF5mLXmMLPxSeHEwMgDgQUZnOsneRfToO3ZjiF6v-rfBT_4oKIcr2jJ317YTsMv3zDcvcJz5-9gVxKxDabR9pXQkBRyDrY2EklrzHGj_hHkAeZ2DlTOpnSlMIuno5UzULIcKAw8Vs1es_QDHTR4cxRPtCesZSMy5lM2-5yNQoZ7T089ZKjNdFWUU2d5gVw0Hs2QJowwGryzSv4U9_HcAUuG2lAPZ5Wxam6cs0qn79rTudg%3D%3D&redirect=https%3A%2F%2Fwww.overstock.com%2FHome-Garden%2FPorch-Den-Echo-Park-Quintero-Vinyl-Sofa%2F14255864%2Fproduct.html%3Frefccid%3DPX4PFQAJDYSZHICIPDNE4BRIQI%26searchidx%3D3\n",
      "------\n",
      "2840\n",
      "https://ad.tagdelivery.com/click?id=66d3d3d7-d565-40c8-9b71-77c7419a226b&x=O4OjuxZitJNIeA3RY_fEFxDvbq_oASAxMoEHMmMYCF5mLXmMLPxSeHEwMgDgQUZnOsneRfToO3ZjiF6v-rfBT_4oKIcr2jJ317YTsMv3zDcvcJz5-9gVxKxDabR9pXQkBRyDrY2EklrzHGj_hHkAeZ2DlTOpnSlMIuno5UzULIcKAw8Vs1es_QDHTR4cxRPtCesZSMy5lM2-5yNQoZ7T089ZKjNdFWUU2d5gVw0Hs2QJowwGryzSv4U9_HcAUuG2lAPZ5Wxam6cs0qn79rTudg%3D%3D&redirect=https%3A%2F%2Fwww.overstock.com%2FHome-Garden%2FPorch-Den-Echo-Park-Quintero-Vinyl-Sofa%2F14255864%2Fproduct.html%3Frefccid%3DPX4PFQAJDYSZHICIPDNE4BRIQI%26searchidx%3D3\n"
     ]
    }
   ],
   "source": [
    "# 'contains' will find a match on the text, in this case return b tag\n",
    "page = 1\n",
    "\n",
    "while(page<n):\n",
    "    gross_selector = '//a[@class=\"product-link\"]'\n",
    "    for product in driver.find_elements_by_xpath(gross_selector):\n",
    "        store.append(product.get_attribute('href'))\n",
    "        \n",
    "    print(\"------\")\n",
    "    print(len(store))\n",
    "    print(store[-1])\n",
    "\n",
    "    # find the next button and click it  \n",
    "    go_button = driver.find_element_by_xpath('//a[@class=\"next\"]') \n",
    "    go_button.click()\n",
    "    time.sleep(2);\n",
    "    page+=1\n",
    "\n",
    "driver.close()\n"
   ]
  },
  {
   "cell_type": "code",
   "execution_count": 38,
   "metadata": {},
   "outputs": [
    {
     "name": "stdout",
     "output_type": "stream",
     "text": [
      "['https://www.overstock.com/Home-Garden/Clay-Alder-Home-Klingle-Grey-Velvet-Convert-a-Couch-Futon-Sofa-Sleeper/20254905/product.html?refccid=6YCE2DJ37ZWJL62OLCDFNVZGFU&searchidx=0', 'https://www.overstock.com/Home-Garden/Carson-Carrington-Brandbu-Mid-century-Fold-Down-Futon/20370480/product.html?refccid=6YCE2DJ37ZWJL62OLCDFNVZGFU&searchidx=1', 'https://www.overstock.com/Home-Garden/Knightsbridge-Tufted-Scroll-Arm-Chesterfield-Sofa-by-iNSPIRE-Q-Artisan/9242312/product.html?refccid=6YCE2DJ37ZWJL62OLCDFNVZGFU&searchidx=2', 'https://www.overstock.com/Home-Garden/Knightsbridge-Beige-Fabric-Button-Tufted-Chesterfield-Sofa-and-Seating-by-iNSPIRE-Q-Artisan/8763005/product.html?refccid=6YCE2DJ37ZWJL62OLCDFNVZGFU&searchidx=3', 'https://www.overstock.com/Home-Garden/Uptown-II-Modern-Sofa-by-iNSPIRE-Q-Classic/22377537/product.html?refccid=6YCE2DJ37ZWJL62OLCDFNVZGFU&searchidx=4', 'https://www.overstock.com/Home-Garden/Clay-Alder-Home-Pope-Street-Arm-Convert-a-Couch-Mocha-Tan-Microfiber-Futon-Sleeper-Sofa/20690019/product.html?refccid=6YCE2DJ37ZWJL62OLCDFNVZGFU&searchidx=5', 'https://www.overstock.com/Home-Garden/Clay-Alder-Home-Klingle-Chocolate-Brown-Velvet-Convert-a-Couch-Storage-Arm-Futon-Sofa-Sleeper/20254906/product.html?refccid=6YCE2DJ37ZWJL62OLCDFNVZGFU&searchidx=6', 'https://www.overstock.com/Home-Garden/Abbyson-Leyla-Turquoise-Top-Grain-Leather-Push-Back-Reclining-Sofa/16005086/product.html?refccid=6YCE2DJ37ZWJL62OLCDFNVZGFU&searchidx=7', 'https://www.overstock.com/Home-Garden/Elston-Linen-Tufted-Sloped-Track-Sofa-iNSPIRE-Q-Modern/8859663/product.html?refccid=6YCE2DJ37ZWJL62OLCDFNVZGFU&searchidx=8', 'https://www.overstock.com/Home-Garden/Oana-Oatmeal-Mid-Century-Tapered-Leg-Seating-Collection-with-Pillows-by-iNSPIRE-Q-Modern/16741289/product.html?refccid=6YCE2DJ37ZWJL62OLCDFNVZGFU&searchidx=9']\n",
      "2840\n"
     ]
    }
   ],
   "source": [
    "# looking at what I have got . I get data in this sequence stock_no model details, USD(unwanted), price i \n",
    "print(store[:10])\n",
    "print(len(store))"
   ]
  },
  {
   "cell_type": "markdown",
   "metadata": {},
   "source": [
    "### 4. PUT INTO PANDA"
   ]
  },
  {
   "cell_type": "code",
   "execution_count": 39,
   "metadata": {},
   "outputs": [
    {
     "name": "stdout",
     "output_type": "stream",
     "text": [
      "(2840, 2)\n"
     ]
    }
   ],
   "source": [
    "import pandas as pd\n",
    "headings =['link']\n",
    "df_products=pd.DataFrame(store,columns=headings)\n",
    "df_products['type']='sofa' # change based on what you are scraping\n",
    "df_products.head()\n",
    "print(df_products.shape)"
   ]
  },
  {
   "cell_type": "code",
   "execution_count": 40,
   "metadata": {},
   "outputs": [
    {
     "data": {
      "text/html": [
       "<div>\n",
       "<style scoped>\n",
       "    .dataframe tbody tr th:only-of-type {\n",
       "        vertical-align: middle;\n",
       "    }\n",
       "\n",
       "    .dataframe tbody tr th {\n",
       "        vertical-align: top;\n",
       "    }\n",
       "\n",
       "    .dataframe thead th {\n",
       "        text-align: right;\n",
       "    }\n",
       "</style>\n",
       "<table border=\"1\" class=\"dataframe\">\n",
       "  <thead>\n",
       "    <tr style=\"text-align: right;\">\n",
       "      <th></th>\n",
       "      <th>link</th>\n",
       "      <th>type</th>\n",
       "    </tr>\n",
       "  </thead>\n",
       "  <tbody>\n",
       "    <tr>\n",
       "      <th>2835</th>\n",
       "      <td>https://www.overstock.com/Home-Garden/SofaTren...</td>\n",
       "      <td>sofa</td>\n",
       "    </tr>\n",
       "    <tr>\n",
       "      <th>2836</th>\n",
       "      <td>https://ad.tagdelivery.com/click?id=b2b66ebb-2...</td>\n",
       "      <td>sofa</td>\n",
       "    </tr>\n",
       "    <tr>\n",
       "      <th>2837</th>\n",
       "      <td>https://ad.tagdelivery.com/click?id=d9e56781-8...</td>\n",
       "      <td>sofa</td>\n",
       "    </tr>\n",
       "    <tr>\n",
       "      <th>2838</th>\n",
       "      <td>https://ad.tagdelivery.com/click?id=74a0ee6f-f...</td>\n",
       "      <td>sofa</td>\n",
       "    </tr>\n",
       "    <tr>\n",
       "      <th>2839</th>\n",
       "      <td>https://ad.tagdelivery.com/click?id=66d3d3d7-d...</td>\n",
       "      <td>sofa</td>\n",
       "    </tr>\n",
       "  </tbody>\n",
       "</table>\n",
       "</div>"
      ],
      "text/plain": [
       "                                                   link  type\n",
       "2835  https://www.overstock.com/Home-Garden/SofaTren...  sofa\n",
       "2836  https://ad.tagdelivery.com/click?id=b2b66ebb-2...  sofa\n",
       "2837  https://ad.tagdelivery.com/click?id=d9e56781-8...  sofa\n",
       "2838  https://ad.tagdelivery.com/click?id=74a0ee6f-f...  sofa\n",
       "2839  https://ad.tagdelivery.com/click?id=66d3d3d7-d...  sofa"
      ]
     },
     "execution_count": 40,
     "metadata": {},
     "output_type": "execute_result"
    }
   ],
   "source": [
    "df_products.tail()"
   ]
  },
  {
   "cell_type": "markdown",
   "metadata": {},
   "source": [
    "### 5. WRITE TO FILE product_links_<category\\>.csv"
   ]
  },
  {
   "cell_type": "code",
   "execution_count": 41,
   "metadata": {},
   "outputs": [
    {
     "name": "stdout",
     "output_type": "stream",
     "text": [
      "exists = no\n"
     ]
    }
   ],
   "source": [
    "file_name = '../data/scrape/product_links_sofa.csv'\n",
    "from pathlib import Path\n",
    "config = Path(file_name)\n",
    "if config.is_file():\n",
    "    print('exist = yes')\n",
    "    with open(file_name, 'a') as f:\n",
    "        df_products.to_csv(f, header=False)\n",
    "    # Store configuration file values\n",
    "else:\n",
    "    # Keep presets\n",
    "    print('exists = no')\n",
    "    with open(file_name, 'a') as f:\n",
    "        df_products.to_csv(f, header=True)\n",
    "    "
   ]
  },
  {
   "cell_type": "code",
   "execution_count": 42,
   "metadata": {},
   "outputs": [
    {
     "name": "stdout",
     "output_type": "stream",
     "text": [
      "(2840, 3)\n"
     ]
    },
    {
     "data": {
      "text/html": [
       "<div>\n",
       "<style scoped>\n",
       "    .dataframe tbody tr th:only-of-type {\n",
       "        vertical-align: middle;\n",
       "    }\n",
       "\n",
       "    .dataframe tbody tr th {\n",
       "        vertical-align: top;\n",
       "    }\n",
       "\n",
       "    .dataframe thead th {\n",
       "        text-align: right;\n",
       "    }\n",
       "</style>\n",
       "<table border=\"1\" class=\"dataframe\">\n",
       "  <thead>\n",
       "    <tr style=\"text-align: right;\">\n",
       "      <th></th>\n",
       "      <th>Unnamed: 0</th>\n",
       "      <th>link</th>\n",
       "      <th>type</th>\n",
       "    </tr>\n",
       "  </thead>\n",
       "  <tbody>\n",
       "    <tr>\n",
       "      <th>2835</th>\n",
       "      <td>2835</td>\n",
       "      <td>https://www.overstock.com/Home-Garden/SofaTren...</td>\n",
       "      <td>sofa</td>\n",
       "    </tr>\n",
       "    <tr>\n",
       "      <th>2836</th>\n",
       "      <td>2836</td>\n",
       "      <td>https://ad.tagdelivery.com/click?id=b2b66ebb-2...</td>\n",
       "      <td>sofa</td>\n",
       "    </tr>\n",
       "    <tr>\n",
       "      <th>2837</th>\n",
       "      <td>2837</td>\n",
       "      <td>https://ad.tagdelivery.com/click?id=d9e56781-8...</td>\n",
       "      <td>sofa</td>\n",
       "    </tr>\n",
       "    <tr>\n",
       "      <th>2838</th>\n",
       "      <td>2838</td>\n",
       "      <td>https://ad.tagdelivery.com/click?id=74a0ee6f-f...</td>\n",
       "      <td>sofa</td>\n",
       "    </tr>\n",
       "    <tr>\n",
       "      <th>2839</th>\n",
       "      <td>2839</td>\n",
       "      <td>https://ad.tagdelivery.com/click?id=66d3d3d7-d...</td>\n",
       "      <td>sofa</td>\n",
       "    </tr>\n",
       "  </tbody>\n",
       "</table>\n",
       "</div>"
      ],
      "text/plain": [
       "      Unnamed: 0                                               link  type\n",
       "2835        2835  https://www.overstock.com/Home-Garden/SofaTren...  sofa\n",
       "2836        2836  https://ad.tagdelivery.com/click?id=b2b66ebb-2...  sofa\n",
       "2837        2837  https://ad.tagdelivery.com/click?id=d9e56781-8...  sofa\n",
       "2838        2838  https://ad.tagdelivery.com/click?id=74a0ee6f-f...  sofa\n",
       "2839        2839  https://ad.tagdelivery.com/click?id=66d3d3d7-d...  sofa"
      ]
     },
     "execution_count": 42,
     "metadata": {},
     "output_type": "execute_result"
    }
   ],
   "source": [
    "check = pd.read_csv(file_name)\n",
    "print(check.shape)\n",
    "check.tail()"
   ]
  },
  {
   "cell_type": "markdown",
   "metadata": {},
   "source": [
    "### next -> page_scrap_sofa.ipynb"
   ]
  },
  {
   "cell_type": "code",
   "execution_count": null,
   "metadata": {},
   "outputs": [],
   "source": []
  }
 ],
 "metadata": {
  "kernelspec": {
   "display_name": "Python 3",
   "language": "python",
   "name": "python3"
  },
  "language_info": {
   "codemirror_mode": {
    "name": "ipython",
    "version": 3
   },
   "file_extension": ".py",
   "mimetype": "text/x-python",
   "name": "python",
   "nbconvert_exporter": "python",
   "pygments_lexer": "ipython3",
   "version": "3.6.5"
  }
 },
 "nbformat": 4,
 "nbformat_minor": 2
}
